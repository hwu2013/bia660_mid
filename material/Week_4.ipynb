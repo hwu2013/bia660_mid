{
 "metadata": {
  "name": ""
 },
 "nbformat": 3,
 "nbformat_minor": 0,
 "worksheets": [
  {
   "cells": [
    {
     "cell_type": "code",
     "collapsed": false,
     "input": [
      "fh = open('testEmails.txt','r')\n",
      "fh.read() # returns whole file"
     ],
     "language": "python",
     "metadata": {},
     "outputs": []
    },
    {
     "cell_type": "code",
     "collapsed": false,
     "input": [
      "fh = open('testEmails.txt','r')\n",
      "fh.readline() # reads the first line (pointer to first line)"
     ],
     "language": "python",
     "metadata": {},
     "outputs": [
      {
       "metadata": {},
       "output_type": "pyout",
       "prompt_number": 11,
       "text": [
        "'ME@YAHOO.COM\\n'"
       ]
      }
     ],
     "prompt_number": 11
    },
    {
     "cell_type": "code",
     "collapsed": false,
     "input": [
      "fh.next() # reads the next line"
     ],
     "language": "python",
     "metadata": {},
     "outputs": [
      {
       "metadata": {},
       "output_type": "pyout",
       "prompt_number": 12,
       "text": [
        "'WINTER.MASON@YAHOO.COM\\n'"
       ]
      }
     ],
     "prompt_number": 12
    },
    {
     "cell_type": "code",
     "collapsed": false,
     "input": [
      "fh = open('testEmails.txt','r')\n",
      "fh.readlines()"
     ],
     "language": "python",
     "metadata": {},
     "outputs": [
      {
       "metadata": {},
       "output_type": "pyout",
       "prompt_number": 13,
       "text": [
        "['me@google.com\\n',\n",
        " 'ME@YAHOO.COM\\n',\n",
        " 'WINTER.MASON@YAHOO.COM\\n',\n",
        " 'winter.mason@yahoo.com\\n',\n",
        " 'this is a test me@example.com\\n',\n",
        " 'this is a harder test me@example.com.\\n',\n",
        " 'An email in context me@example.com is hard.\\n',\n",
        " 'alpha123@google.com\\n',\n",
        " 'alpha.123@google.com\\n',\n",
        " '123@google.com\\n',\n",
        " 'under_score@mail.edu\\n',\n",
        " 'h@bit.ly\\n',\n",
        " 'oddly+@mail.com\\n',\n",
        " '\\n',\n",
        " '\\n',\n",
        " '---------------------\\n',\n",
        " '\\n',\n",
        " '@twitter handle\\n',\n",
        " 'not.valid@domain\\n',\n",
        " 'domain@valid.butnotreally\\n',\n",
        " \"This&isn't@right.com\\n\",\n",
        " 'not=valid@domain.com\\n',\n",
        " 'also@not@valid@domain.com\\n']"
       ]
      }
     ],
     "prompt_number": 13
    },
    {
     "cell_type": "code",
     "collapsed": false,
     "input": [
      "fh = open('testEmails.txt','r')\n",
      "for line in fh:\n",
      "    print line"
     ],
     "language": "python",
     "metadata": {},
     "outputs": [
      {
       "output_type": "stream",
       "stream": "stdout",
       "text": [
        "me@google.com\n",
        "\n",
        "ME@YAHOO.COM\n",
        "\n",
        "WINTER.MASON@YAHOO.COM\n",
        "\n",
        "winter.mason@yahoo.com\n",
        "\n",
        "this is a test me@example.com\n",
        "\n",
        "this is a harder test me@example.com.\n",
        "\n",
        "An email in context me@example.com is hard.\n",
        "\n",
        "alpha123@google.com\n",
        "\n",
        "alpha.123@google.com\n",
        "\n",
        "123@google.com\n",
        "\n",
        "under_score@mail.edu\n",
        "\n",
        "h@bit.ly\n",
        "\n",
        "oddly+@mail.com\n",
        "\n",
        "\n",
        "\n",
        "\n",
        "\n",
        "---------------------\n",
        "\n",
        "\n",
        "\n",
        "@twitter handle\n",
        "\n",
        "not.valid@domain\n",
        "\n",
        "domain@valid.butnotreally\n",
        "\n",
        "This&isn't@right.com\n",
        "\n",
        "not=valid@domain.com\n",
        "\n",
        "also@not@valid@domain.com\n",
        "\n"
       ]
      }
     ],
     "prompt_number": 14
    },
    {
     "cell_type": "code",
     "collapsed": false,
     "input": [
      "fh.close()"
     ],
     "language": "python",
     "metadata": {},
     "outputs": [],
     "prompt_number": 15
    },
    {
     "cell_type": "code",
     "collapsed": false,
     "input": [
      "fh = open('testdoc.txt','w')"
     ],
     "language": "python",
     "metadata": {},
     "outputs": [],
     "prompt_number": 17
    },
    {
     "cell_type": "code",
     "collapsed": false,
     "input": [
      "fh.write('This is the first line\\n')"
     ],
     "language": "python",
     "metadata": {},
     "outputs": [],
     "prompt_number": 18
    },
    {
     "cell_type": "code",
     "collapsed": false,
     "input": [
      "fh.writelines(['stringonee','string2','stringthree'])\n",
      "fh.write('\\n'.join(['stringonee','string2','stringthree']))"
     ],
     "language": "python",
     "metadata": {},
     "outputs": [],
     "prompt_number": 19
    },
    {
     "cell_type": "code",
     "collapsed": false,
     "input": [
      "fh.close()\n",
      "fg = open('testdoc.txt','r')\n",
      "fg.read()"
     ],
     "language": "python",
     "metadata": {},
     "outputs": [
      {
       "metadata": {},
       "output_type": "pyout",
       "prompt_number": 20,
       "text": [
        "'This is the first line\\nstringoneestring2stringthree'"
       ]
      }
     ],
     "prompt_number": 20
    },
    {
     "cell_type": "code",
     "collapsed": false,
     "input": [
      "fg.close()"
     ],
     "language": "python",
     "metadata": {},
     "outputs": [],
     "prompt_number": 21
    },
    {
     "cell_type": "heading",
     "level": 3,
     "metadata": {},
     "source": [
      "urllib"
     ]
    },
    {
     "cell_type": "code",
     "collapsed": false,
     "input": [
      "import urllib"
     ],
     "language": "python",
     "metadata": {},
     "outputs": [],
     "prompt_number": 1
    },
    {
     "cell_type": "code",
     "collapsed": false,
     "input": [
      "f = urllib.urlopen('http://smallsocialsystems.com/')\n",
      "for line in f:\n",
      "    print line"
     ],
     "language": "python",
     "metadata": {},
     "outputs": [
      {
       "output_type": "stream",
       "stream": "stdout",
       "text": [
        "<html>\n",
        "\n",
        "<head>\n",
        "\n",
        "\t<title>Small Social Systems</title>\n",
        "\n",
        "\t<style type=\"text/css\"> \n",
        "\n",
        " \t\t@import \"./homepage.css\";\n",
        "\n",
        "\t</style>\n",
        "\n",
        "</head>\n",
        "\n",
        "<body>\n",
        "\n",
        "\t<div id=\"maintitle\">\n",
        "\n",
        "\t\t<a id=\"home\" href=\"./index.html\">small social systems</a>\n",
        "\n",
        "\t</div>\n",
        "\n",
        "\t<div id=\"mainbuttons\">\t\t\n",
        "\n",
        "        <div class=\"buttonwrapper\">\n",
        "\n",
        "\t\t\t<a class=\"bigbutton\" id=\"aboutbutton\" href=\"./about.html\"></a>\n",
        "\n",
        "\t\t\t<a class=\"buttonlabel\" href=\"./about.html\">About Me</a>\n",
        "\n",
        "\t\t</div>\n",
        "\n",
        "\t\t<div class=\"buttonwrapper\">\n",
        "\n",
        "\t\t\t<a class=\"bigbutton\" id=\"cvbutton\" href=\"./cv.html\"></a>\n",
        "\n",
        "\t\t\t<a class=\"buttonlabel\" href=\"./cv.html\">Publications</a>\n",
        "\n",
        "\t\t</div>\n",
        "\n",
        "\t\t<div class=\"buttonwrapper\">\n",
        "\n",
        "\t\t\t<a class=\"bigbutton\" id=\"researchbutton\" href=\"./research.html\"></a>\n",
        "\n",
        "\t\t\t<a class=\"buttonlabel\" href=\"./research.html\">Research</a>\n",
        "\n",
        "\t\t</div>\n",
        "\n",
        "\t\t<!-- <div class=\"buttonwrapper\">\n",
        "\n",
        "\t\t\t<a class=\"bigbutton\" id=\"assnbutton\" href=\"./profassn.html\"></a>\n",
        "\n",
        "\t\t\t<a class=\"buttonlabel\" href=\"./profassn.html\">Associations</a>\n",
        "\n",
        "\t\t</div> -->\n",
        "\n",
        "\t\t<div class=\"buttonwrapper\">\n",
        "\n",
        "\t\t\t<a class=\"bigbutton\" id=\"blogbutton\" href=\"./blog/index.php\"></a>\n",
        "\n",
        "\t\t\t<a class=\"buttonlabel\" href=\"./blog/index.php\">Blog</a>\n",
        "\n",
        "\t\t</div>\n",
        "\n",
        "\t</div>\n",
        "\n",
        "</body>\n",
        "\n",
        "</html>\n"
       ]
      }
     ],
     "prompt_number": 24
    },
    {
     "cell_type": "code",
     "collapsed": false,
     "input": [
      "# GET method\n",
      "params = urllib.urlencode({'p': 208, 'alpha':'a string & stuff'}) "
     ],
     "language": "python",
     "metadata": {},
     "outputs": [],
     "prompt_number": 27
    },
    {
     "cell_type": "code",
     "collapsed": false,
     "input": [
      "print params"
     ],
     "language": "python",
     "metadata": {},
     "outputs": [
      {
       "output_type": "stream",
       "stream": "stdout",
       "text": [
        "p=208&alpha=a+string+%26+stuff\n"
       ]
      }
     ],
     "prompt_number": 28
    },
    {
     "cell_type": "code",
     "collapsed": true,
     "input": [
      "f = urllib.urlopen('http://smallsocialsystems.com/blog/?%s' % params)\n",
      "f.read()"
     ],
     "language": "python",
     "metadata": {},
     "outputs": [
      {
       "metadata": {},
       "output_type": "pyout",
       "prompt_number": 29,
       "text": [
        "'<!DOCTYPE html PUBLIC \"-//W3C//DTD XHTML 1.0 Transitional//EN\" \"http://www.w3.org/TR/xhtml1/DTD/xhtml1-transitional.dtd\">\\n<html xmlns=\"http://www.w3.org/1999/xhtml\" lang=\"en-US\">\\n  <head profile=\"http://gmpg.org/xfn/11\">\\n\\t<meta http-equiv=\"Content-Type\" content=\"text/html; charset=UTF-8\" />\\n\\n<!-- Meta Images -->\\n\\t<link rel=\"shortcut icon\" href=\"http://smallsocialsystems.com/images/50blog.jpg\" type=\"image/x-icon\" />\\t\\n<!-- Title and External Script Integration -->\\n\\t\\t\\t<title>  Comparative Word Cloud</title>\\n\\t\\t\\n<!-- Stylesheets -->\\n\\n\\t<link rel=\"stylesheet\" href=\"http://smallsocialsystems.com/blog/wp-content/themes/iblog/style.css\" type=\"text/css\" media=\"screen\" />\\t\\n\\t<style type=\"text/css\">\\n\\n\\n\\n\\n\\n\\n\\n\\n\\n\\t\\n\\n\\n\\n</style>\\n\\t\\n\\n<!-- Wordpress Stuff -->\\n\\t<meta name=\"generator\" content=\"WordPress 3.5.1\" /> <!-- leave this for stats -->\\n\\t<link rel=\"pingback\" href=\"http://smallsocialsystems.com/blog/xmlrpc.php\" />\\n\\t <!-- This makes the comment box appear where the \\xe2\\x80\\x98reply to this comment\\xe2\\x80\\x99 link is -->\\n\\t\\n<!-- Modules w/ Javascript -->\\t\\n\\t\\t\\t\\t\\t<!-- IE -->\\n\\n<!--[if IE 6]>\\n\\t<script src=\"http://smallsocialsystems.com/blog/wp-content/themes/iblog/core/js/belatedpng.js\"></script>\\n\\t<script>\\n\\t  DD_belatedPNG.fix(\\'.pngbg, a.home, #nav,.searchform .left, .searchform .right, .searchform .s, .fcol_pad img, .fbox img, #respond h3, #cred.pagelines a, .post .date, .headerimage, #sidebar div ul li a\\');\\n\\t </script>\\t\\n\\t<style>\\n\\t\\t#header #blogtitle .sheen {display: none;height: 1px;}\\n\\t\\t#featurenav a span.nav_thumb span.nav_overlay {background: transparent;display:none}\\n\\t\\t #nav ul li {background: transparent}\\n\\t\\t.fbox {overflow:hidden}\\n\\t</style>\\n<![endif]-->\\t\\n\\n<!-- Font Replacement -->\\n  \\t\\t\\t\\n\\t<link rel=\"alternate\" type=\"application/rss+xml\" title=\"scintillae &raquo; Feed\" href=\"http://smallsocialsystems.com/blog/?feed=rss2\" />\\n<link rel=\"alternate\" type=\"application/rss+xml\" title=\"scintillae &raquo; Comments Feed\" href=\"http://smallsocialsystems.com/blog/?feed=comments-rss2\" />\\n<link rel=\"alternate\" type=\"application/rss+xml\" title=\"scintillae &raquo; Comparative Word Cloud Comments Feed\" href=\"http://smallsocialsystems.com/blog/?feed=rss2&#038;p=208\" />\\n<!--[if lte IE 7]>\\n<link rel=\\'stylesheet\\' id=\\'ie7-style-css\\'  href=\\'http://smallsocialsystems.com/blog/wp-content/themes/iblog/css/ie7.css?ver=3.5.1\\' type=\\'text/css\\' media=\\'all\\' />\\n<![endif]-->\\n<script type=\\'text/javascript\\' src=\\'http://smallsocialsystems.com/blog/wp-includes/js/comment-reply.min.js?ver=3.5.1\\'></script>\\n<script type=\\'text/javascript\\' src=\\'http://smallsocialsystems.com/blog/wp-includes/js/jquery/jquery.js?ver=1.8.3\\'></script>\\n<link rel=\"EditURI\" type=\"application/rsd+xml\" title=\"RSD\" href=\"http://smallsocialsystems.com/blog/xmlrpc.php?rsd\" />\\n<link rel=\"wlwmanifest\" type=\"application/wlwmanifest+xml\" href=\"http://smallsocialsystems.com/blog/wp-includes/wlwmanifest.xml\" /> \\n<link rel=\\'prev\\' title=\\'MPAA alternative\\' href=\\'http://smallsocialsystems.com/blog/?p=202\\' />\\n<link rel=\\'next\\' title=\\'Meme-based reviews\\' href=\\'http://smallsocialsystems.com/blog/?p=223\\' />\\n<meta name=\"generator\" content=\"WordPress 3.5.1\" />\\n<link rel=\\'canonical\\' href=\\'http://smallsocialsystems.com/blog/?p=208\\' />\\n</head>\\n<body class=\"single single-post postid-208 single-format-standard\">\\n\\n<div id=\"page\" class=\"fix\">\\n  <div id=\"wrapper\" class=\"fix\" >\\n    <div id=\"header\" class=\"fix\">\\n\\t\\t\\t      \\t\\t<h1 id=\"blogtitle\"><a href=\"http://smallsocialsystems.com/blog\"><span class=\"sheen\"></span>scintillae</a></h1>\\n\\t      \\t\\t<div id=\"blogdescription\">random sparks</div>\\n\\t\\t\\t\\t<!-- iphone icons -->\\n\\t<div class=\"icons\">\\n\\n\\t\\t\\t\\t\\t\\t\\t\\t<div class=\"nav-icon\">\\n\\t\\t\\t\\t<a href=\\'http://smallsocialsystems.com/blog/?feed=rss2\\'><img class=\"pngbg\" src=\"http://smallsocialsystems.com/blog/wp-content/themes/iblog/images/iphone/rss.png\" alt=\"icon\"/></a>\\n\\t\\t\\t</div>\\n\\t\\t\\t\\t\\t\\t\\t\\t\\t\\n\\t\\t\\t\\n\\t\\t\\t\\t\\t\\t\\t\\t\\t\\n\\t\\t\\t\\t\\t\\n\\t\\t\\t\\t\\t\\t\\t</div>\\n<!-- /end iphone icons -->\\t\\n\\t</div><!-- /header -->\\n\\t<div id=\"nav\" class=\"fix\">\\n\\t<ul class=\"fix homebutton\">\\n\\t\\t<li class=\"page_item navfirst\">\\n\\t\\t\\n\\t\\t\\t<a class=\"home\" href=\"http://smallsocialsystems.com/blog/\" title=\"Home\" style=\"background-image: url(\\'http://smallsocialsystems.com/blog/wp-content/themes/iblog/images/home-icon-trans.png\\');\">\\n\\t\\t\\t\\tHome\\t\\n\\t\\t\\t</a>\\n\\t\\t</li>\\n\\t</ul>\\n\\t\\t\\t<div class=\"mnav dropdown fix\"></div>\\n\\t\\t\\t\\t<form method=\"get\" class=\"searchform\" action=\"http://smallsocialsystems.com/blog/\">\\n\\t<span class=\"left\"></span>\\n\\t\\t<input type=\"text\" value=\"Search\" name=\"s\" class=\"s\" onfocus=\"if (this.value == \\'Search\\') {this.value = \\'\\';}\" onblur=\"if (this.value == \\'\\') {this.value = \\'Search\\';}\" />\\n\\t<span class=\"right\"></span>\\n\\t<input type=\"submit\" class=\"searchsubmit\" value=\"Go\" />\\n</form>\\n\\t<div class=\"clear\"></div>\\n</div><!-- /nav -->\\n\\n\\t<div id=\"container\" class=\"fix \">\\n\\t\\t<!-- Code for subnav if pages have parents.. -->\\n\\n<div id=\"maincontent\">\\n<div id=\"content\">\\n\\n\\t \\t\\t\\t<div class=\"post-nav\"> <span class=\"previous\"><a href=\"http://smallsocialsystems.com/blog/?p=202\" rel=\"prev\">MPAA alternative</a></span> <span class=\"next\"><a href=\"http://smallsocialsystems.com/blog/?p=223\" rel=\"next\">Meme-based reviews</a></span></div>\\n\\t\\t\\n\\t\\t\\t\\n\\t<div class=\"postwrap fix\">\\n\\t\\t\\n\\t\\t<div class=\"post-208 post type-post status-publish format-standard hentry category-research\" id=\"post-208\">\\n\\t\\t\\t\\t\\n\\t\\t\\t<div class=\"copy fix\">\\t\\t\\n\\t\\t\\t\\t\\n\\t\\t\\t\\t\\t\\t\\t\\t\\t\\t\\n\\t\\t\\t\\t\\t<div class=\"post-header fix post-nothumb\">\\n\\t\\t\\t\\t\\t\\t<div class=\"post-title-section fix\">\\n\\t\\t\\t\\t\\t\\t\\t<div class=\"post-title fix\">\\n\\t\\t\\t\\t\\t\\t\\t\\t<h2><a href=\"http://smallsocialsystems.com/blog/?p=208\" rel=\"bookmark\" title=\"Permanent Link to Comparative Word Cloud\">Comparative Word Cloud</a></h2>\\n\\n\\t\\t\\t\\t\\t\\t\\t\\t<div class=\"metabar\">\\n\\t\\t\\t\\t\\t\\t\\t\\t\\t<em>\\n\\t\\t\\t\\t\\t\\t\\t\\t\\tOn March 2, 2012, \\n\\t\\t\\t\\t\\t\\t\\t\\t\\tin <a href=\"http://smallsocialsystems.com/blog/?cat=4\" title=\"View all posts in Research\" rel=\"category\">Research</a>, \\n\\t\\t\\t\\t\\t\\t\\t\\t\\tby Winter\\t\\t\\t\\t\\t\\t\\t\\t\\t\\t\\t\\t\\t\\t\\t\\t\\t\\t</em>\\n\\t\\t\\t\\t\\t\\t\\t\\t</div>\\n\\t\\t\\t\\t\\t\\t\\t</div>\\n\\t\\t\\t\\t\\t\\t</div>\\n\\t\\t\\t\\t\\t\\t<!--/post-title -->\\n\\n\\t\\t\\t\\t\\t\\t\\t\\t\\t\\t\\t</div>\\t\\t\\t\\t\\n\\t\\t\\t\\n\\t\\t\\t</div>\\n\\t\\t\\t\\t\\t\\t  \\t\\n\\t\\t\\t\\t<div class=\"copy fix\">\\n\\t\\t\\t\\t\\t\\t\\t\\t\\t\\t<div class=\"textcontent\">\\n\\t\\t\\t\\t\\t\\t<p>A little over a year ago, <a href=\"http://www.drewconway.com/\" target=\"_blank\">Drew Conway</a> wrote about <a href=\"http://www.drewconway.com/zia/?p=2624\" target=\"_blank\">the awfulness of word clouds</a>, or in his own words, &#8220;Word clouds are teh suck&#8221;. \\xc2\\xa0To be fair, word clouds aren&#8217;t really awful, they&#8217;re just a poor use of space. \\xc2\\xa0The only information you actually get out of a word cloud is limited to the size of the words, but it&#8217;s sort of pretty and makes you feel like you&#8217;re discovering something (as noted by <a href=\"http://andrewgelman.com/2011/02/the_best_data_v/\" target=\"_blank\">Andrew Gelman</a>). \\xc2\\xa0As an example, I&#8217;ll use the same &#8220;wordles&#8221; that Drew used in his post, taken from the text of Obama &amp; Palin&#8217;s speeches about <a href=\"http://en.wikipedia.org/wiki/2011_Tucson_shooting\" target=\"_blank\">the shooting of Congresswoman Gabrielle Giffords in Tuscon, Arizona</a>.</p>\\n<p><a href=\"http://smallsocialsystems.com/blog/wp-content/uploads/2012/03/palin_wordle.png\"><img class=\"alignnone size-medium wp-image-210\" title=\"palin_wordle\" src=\"http://smallsocialsystems.com/blog/wp-content/uploads/2012/03/palin_wordle-300x149.png\" alt=\"\" width=\"300\" height=\"149\" /></a><a href=\"http://smallsocialsystems.com/blog/wp-content/uploads/2012/03/obama_wordle.png\"><img class=\"alignnone size-medium wp-image-209\" title=\"obama_wordle\" src=\"http://smallsocialsystems.com/blog/wp-content/uploads/2012/03/obama_wordle-300x165.png\" alt=\"\" width=\"300\" height=\"165\" /></a></p>\\n<p>In response to this, Drew built his own word cloud that had more substance than these classic word clouds. \\xc2\\xa0This version has a direct comparison of two pieces of text, sorted on the x-axis by the relative frequency of occurrence, and sized by the frequency in the text it appeared the most in. \\xc2\\xa0I present the example from his post here, and the corresponding code is <a href=\"https://github.com/drewconway/ZIA/tree/master/R/better_word_cloud\" target=\"_blank\">here</a>.</p>\\n<p><a href=\"http://smallsocialsystems.com/blog/wp-content/uploads/2012/03/tuscon_cloud.png\"><img class=\"alignnone  wp-image-211\" title=\"A Better Word Cloud\" src=\"http://smallsocialsystems.com/blog/wp-content/uploads/2012/03/tuscon_cloud-1024x551.png\" alt=\"\" width=\"600\" height=\"324\" /></a></p>\\n<p>A little over a month ago, I was working on a project and the idea for using word clouds came up, and I thought this was a perfect opportunity since we wanted to compare texts. \\xc2\\xa0However, the texts we wanted to use were much larger than the speeches used in the example, so the words were jammed together an unreadable. \\xc2\\xa0Even after paring it down the resulting image, although more informative, was just not as pretty as the word clouds. \\xc2\\xa0So I set about trying to improve on Drew&#8217;s solution. \\xc2\\xa0I present my updated version below, followed by an exposition of how it is created.</p>\\n<p><a href=\"http://smallsocialsystems.com/blog/wp-content/uploads/2012/03/tuscon_cloud2.png\"><img class=\"alignnone  wp-image-213\" title=\"Comparative Word Cloud\" src=\"http://smallsocialsystems.com/blog/wp-content/uploads/2012/03/tuscon_cloud2-1024x512.png\" alt=\"\" width=\"600\" height=\"324\" /></a></p>\\n<p>I really only made one modification. \\xc2\\xa0The leftmost edge of every word is the exact relative frequency between the two documents, rather than binning the frequencies. \\xc2\\xa0The size of the words corresponds to the relative frequency across all documents. \\xc2\\xa0So &#8220;values&#8221; was said more by Palin than Obama, and &#8220;country&#8221; was said slightly more often by Obama than &#8220;values&#8221; (it&#8217;s more to the right), and much more frequently overall by both candidates (it&#8217;s significantly larger).</p>\\n<p>Of course, without any further modification all of the words would be piled on top of each other, so the code shifts the words up and down until they&#8217;ve found a place where they don&#8217;t overlap other words. \\xc2\\xa0To do this, it starts at the leftmost end and keeps track of the x-position, height and width of each word. \\xc2\\xa0The resulting image, I believe, has the &#8220;discovery&#8221; feeling of the classic wordles, but the informativeness of Drew&#8217;s better word cloud. \\xc2\\xa0The image was created with R (specifically <a href=\"http://cran.r-project.org/web/packages/tm/index.html\" target=\"_blank\">tm</a> and <a href=\"http://had.co.nz/ggplot2/\" target=\"_blank\">ggplot</a>), and the code can be found <a href=\"http://github.com/winteram/Comparative-Word-Cloud\" target=\"_blank\">here</a>.</p>\\n\\t\\t\\t\\t\\t\\t<div class=\"clear\"></div>\\t\\n\\t\\t\\t\\t\\t\\t\\t\\t\\t\\t\\t\\t\\t\\n\\t\\t\\t\\t\\t\\t<div class=\"clear\"></div>\\n\\t\\t\\t\\t\\t</div>\\t\\n\\t\\t\\t\\t</div>\\n\\t\\t\\t\\t\\t\\t\\t\\t\\t\\t\\t\\t\\n\\t\\t\\t\\t\\t\\t\\t\\t\\n\\t\\t\\t\\n<div class=\"hl\"></div>\\n\\t<div class=\"post-footer\">\\n\\t\\t\\t\\t\\t<div class=\"left\">\\n\\t\\t\\t\\t\\t\\t\\t\\tShare this!\\t\\n\\t\\t\\t</div>\\n\\t\\t\\t<div class=\"right\">\\n\\t\\t\\t\\t\\t \\n\\t\\t\\t\\t\\t<a href=\"http://twitter.com/home/?status=Comparative Word Cloud%20http://smallsocialsystems.com/blog/?p=208\" title=\"Share on Twitter\" rel=\"nofollow\" target=\"_blank\"><img src=\"http://smallsocialsystems.com/blog/wp-content/themes/iblog/images/icons/ico-twitter.png\" alt=\"Twitter\" /></a> \\n\\t\\t\\t\\t\\t<a href=\"http://del.icio.us/post?url=http://smallsocialsystems.com/blog/?p=208&title=Comparative Word Cloud\" title=\"Share on Delicious\" rel=\"nofollow\" target=\"_blank\"><img src=\"http://smallsocialsystems.com/blog/wp-content/themes/iblog/images/icons/ico-del.png\" alt=\"Delicious\" /></a>\\t\\t\\t\\t\\t\\t\\t\\t\\t\\t\\t\\t\\t\\t\\t<a href=\"http://digg.com/submit?phase=2&url=http://smallsocialsystems.com/blog/?p=208&title=Comparative Word Cloud\" title=\"Share on Digg\" rel=\"nofollow\" target=\"_blank\"><img src=\"http://smallsocialsystems.com/blog/wp-content/themes/iblog/images/icons/ico-digg.png\" alt=\"Digg\" /></a>\\t\\t\\t\\t\\n\\t\\t\\t</div>\\n\\t\\t\\t\\t<br class=\"fix\" />\\n\\t\\t\\n\\t</div>\\t\\t</div><!--post -->\\n\\n\\t</div>\\n\\t\\n\\t\\t\\t<div class=\"tags\">\\n\\t\\t\\t&nbsp;\\n\\t\\t</div>\\n\\t\\t\\n\\t<div class=\"clear\"></div>\\n\\t\\n\\t\\t\\t\\t\\n\\t\\t\\t\\t\\t\\t\\n\\t\\t\\t<div class=\"postwrap commentswrap \">\\t\\n\\t\\t\\t<div class=\"hentry\">\\t\\t\\n\\t\\t\\t\\t<div class=\"copy\"> \\r\\n<div id=\"comments\">\\r\\n\\t\\r\\n\\t\\t\\t\\t<h3 id=\"comments-title\">2 Responses to <em>Comparative Word Cloud</em></h3>\\r\\n\\r\\n\\t\\t\\t<ol class=\"commentlist\">\\r\\n\\t\\t\\t\\t\\t\\t<li class=\"comment even thread-even depth-1\" id=\"comment-12376\">\\n\\t\\t\\t\\t<div id=\"div-comment-12376\" class=\"comment-body\">\\n\\t\\t\\t\\t<div class=\"comment-author vcard\">\\n\\t\\t<img alt=\\'\\' src=\\'http://0.gravatar.com/avatar/87498ed9ab546e77bf4b90018a31702c?s=32&amp;d=http%3A%2F%2F0.gravatar.com%2Favatar%2Fad516503a11cd5ca435acc9bb6523536%3Fs%3D32&amp;r=G\\' class=\\'avatar avatar-32 photo\\' height=\\'32\\' width=\\'32\\' />\\t\\t<cite class=\"fn\">Ian</cite> <span class=\"says\">says:</span>\\t\\t</div>\\n\\n\\t\\t<div class=\"comment-meta commentmetadata\"><a href=\"http://smallsocialsystems.com/blog/?p=208&amp;cpage=1#comment-12376\">\\n\\t\\t\\tMarch 5, 2012 at 2:59 am</a>\\t\\t</div>\\n\\n\\t\\t<p>just as an fyi, the wordcloud package also has a comparison word cloud that has similar goals: <a href=\"http://blog.fellstat.com/?p=101\" rel=\"nofollow\">http://blog.fellstat.com/?p=101</a></p>\\n\\n\\t\\t<div class=\"reply\">\\n\\t\\t\\t\\t</div>\\n\\t\\t\\t\\t</div>\\n\\t\\t</li>\\n\\t\\t<li class=\"pingback odd alt thread-odd thread-alt depth-1\" id=\"comment-83343\">\\n\\t\\t\\t\\t<div id=\"div-comment-83343\" class=\"comment-body\">\\n\\t\\t\\t\\t<div class=\"comment-author vcard\">\\n\\t\\t\\t\\t<cite class=\"fn\"><a href=\\'http://geroldkathan.wordpress.com/2013/03/14/real-world-ea-our-tagcloud/\\' rel=\\'external nofollow\\' class=\\'url\\'>real life EA &#8211; our tagcloud | gerold kathan</a></cite> <span class=\"says\">says:</span>\\t\\t</div>\\n\\n\\t\\t<div class=\"comment-meta commentmetadata\"><a href=\"http://smallsocialsystems.com/blog/?p=208&amp;cpage=1#comment-83343\">\\n\\t\\t\\tMarch 20, 2013 at 6:54 am</a>\\t\\t</div>\\n\\n\\t\\t<p>[...] as a next exercise is a visual comparison of the 2 tag clouds &#8211; th\\xc3\\xa4nx to\\xc2\\xa0http://smallsocialsystems.com/blog/?p=208\\xc2\\xa0for the R scripts to generate [...]</p>\\n\\n\\t\\t<div class=\"reply\">\\n\\t\\t\\t\\t</div>\\n\\t\\t\\t\\t</div>\\n\\t\\t</li>\\n\\t\\t\\t</ol>\\r\\n\\t\\t\\t\\r\\n\\t\\t\\t\\r\\n\\t\\r\\n\\t\\t\\t\\t\\t\\t\\t\\t\\t<div id=\"respond\">\\n\\t\\t\\t\\t<h3 id=\"reply-title\">Leave a Reply <small><a rel=\"nofollow\" id=\"cancel-comment-reply-link\" href=\"/blog/?p=208&amp;alpha=a+string+%26+stuff#respond\" style=\"display:none;\">Cancel reply</a></small></h3>\\n\\t\\t\\t\\t\\t\\t\\t\\t\\t<form action=\"http://smallsocialsystems.com/blog/wp-comments-post.php\" method=\"post\" id=\"commentform\">\\n\\t\\t\\t\\t\\t\\t\\t\\t\\t\\t\\t\\t\\t\\t\\t\\t\\t\\t\\t<p class=\"comment-notes\">Your email address will not be published. Required fields are marked <span class=\"required\">*</span></p>\\t\\t\\t\\t\\t\\t\\t<p class=\"comment-form-author\"><label for=\"author\">Name <span class=\"required\">*</span></label> <input id=\"author\" name=\"author\" type=\"text\" value=\"\" size=\"30\" aria-required=\\'true\\' /></p>\\n<p class=\"comment-form-email\"><label for=\"email\">Email <span class=\"required\">*</span></label> <input id=\"email\" name=\"email\" type=\"text\" value=\"\" size=\"30\" aria-required=\\'true\\' /></p>\\n<p class=\"comment-form-url\"><label for=\"url\">Website</label><input id=\"url\" name=\"url\" type=\"text\" value=\"\" size=\"30\" /></p>\\n\\t\\t\\t\\t\\t\\t\\t\\t\\t\\t\\t\\t<p class=\"comment-form-comment\"><label for=\"comment\">Comment</label><textarea id=\"comment\" name=\"comment\" cols=\"45\" rows=\"8\" aria-required=\"true\"></textarea></p>\\t\\t\\t\\t\\t\\t<p class=\"form-allowed-tags\">You may use these <abbr title=\"HyperText Markup Language\">HTML</abbr> tags and attributes:  <code>&lt;a href=&quot;&quot; title=&quot;&quot;&gt; &lt;abbr title=&quot;&quot;&gt; &lt;acronym title=&quot;&quot;&gt; &lt;b&gt; &lt;blockquote cite=&quot;&quot;&gt; &lt;cite&gt; &lt;code&gt; &lt;del datetime=&quot;&quot;&gt; &lt;em&gt; &lt;i&gt; &lt;q cite=&quot;&quot;&gt; &lt;strike&gt; &lt;strong&gt; </code></p>\\t\\t\\t\\t\\t\\t<p class=\"form-submit\">\\n\\t\\t\\t\\t\\t\\t\\t<input name=\"submit\" type=\"submit\" id=\"submit\" value=\"Post Comment\" />\\n\\t\\t\\t\\t\\t\\t\\t<input type=\\'hidden\\' name=\\'comment_post_ID\\' value=\\'208\\' id=\\'comment_post_ID\\' />\\n<input type=\\'hidden\\' name=\\'comment_parent\\' id=\\'comment_parent\\' value=\\'0\\' />\\n\\t\\t\\t\\t\\t\\t</p>\\n\\t\\t\\t\\t\\t\\t<p style=\"display: none;\"><input type=\"hidden\" id=\"akismet_comment_nonce\" name=\"akismet_comment_nonce\" value=\"6bd16cf5ce\" /></p>\\t\\t\\t\\t\\t</form>\\n\\t\\t\\t\\t\\t\\t\\t</div><!-- #respond -->\\n\\t\\t\\t\\t\\t\\t</div>\\r\\n</div>\\n\\t\\t\\t</div>\\n\\t\\t\\t</div>\\n\\t\\t\\t\\n\\t\\t\\t\\n\\t\\n\\t\\t\\n\\t\\n</div> <!-- end content -->\\n</div>\\n<div id=\"sidebar\" class=\"fix\">\\r\\n\\t\\t\\t\\t\\n\\t\\t\\t<div id=\"welcome\" class=\"fix\">\\n\\t\\t\\t<div class=\"welcometext\">\\n\\t\\t\\t\\t<h3 class=\"greeting\">A few sparks...</h3>\\t\\t\\t\\t<div class=\"welcomemessage\">Many posts can\\'t be seen if you\\'re not logged in.  Please sign up!</div>\\t\\t\\t\\t\\n<div class=\"twitter\">\\n\\t \"No public Twitter messages.\" &mdash;&nbsp;<a href=\"http://www.twitter.com/winteram\">winteram</a>\\n</div>\\n\\t\\t\\t\\t<div class=\"clear\"></div>\\n\\t\\t\\t</div>\\n\\t\\t</div>\\n\\t\\t\\t\\t\\n\\n\\t\\n\\t\\t\\t\\t\\r\\n\\t\\t\\t\\t\\t<div id=\"meta-3\" class=\"widget_meta widget\"><div class=\"winner\"><h3 class=\"wtitle\">Meta&nbsp;</h3>\\t\\t\\t<ul>\\n\\t\\t\\t\\t\\t\\t<li><a href=\"http://smallsocialsystems.com/blog/wp-login.php\">Log in</a></li>\\n\\t\\t\\t<li><a href=\"http://smallsocialsystems.com/blog/?feed=rss2\" title=\"Syndicate this site using RSS 2.0\">Entries <abbr title=\"Really Simple Syndication\">RSS</abbr></a></li>\\n\\t\\t\\t<li><a href=\"http://smallsocialsystems.com/blog/?feed=comments-rss2\" title=\"The latest comments to all posts in RSS\">Comments <abbr title=\"Really Simple Syndication\">RSS</abbr></a></li>\\n\\t\\t\\t<li><a href=\"http://wordpress.org/\" title=\"Powered by WordPress, state-of-the-art semantic personal publishing platform.\">WordPress.org</a></li>\\n\\t\\t\\t\\t\\t\\t</ul>\\n&nbsp;</div></div><div id=\"nav_menu-3\" class=\"widget_nav_menu widget\"><div class=\"winner\"><h3 class=\"wtitle\">Small Social Systems&nbsp;</h3><div class=\"menu-small-social-systems-container\"><ul id=\"menu-small-social-systems\" class=\"menu\"><li id=\"menu-item-128\" class=\"menu-item menu-item-type-custom menu-item-object-custom menu-item-128\"><a href=\"http://smallsocialsystems.com/about.html\">About Me</a></li>\\n<li id=\"menu-item-129\" class=\"menu-item menu-item-type-custom menu-item-object-custom menu-item-129\"><a href=\"http://smallsocialsystems.com/cv.html\">Manuscripts</a></li>\\n<li id=\"menu-item-130\" class=\"menu-item menu-item-type-custom menu-item-object-custom menu-item-130\"><a href=\"http://smallsocialsystems.com/research.html\">Research</a></li>\\n<li id=\"menu-item-131\" class=\"menu-item menu-item-type-custom menu-item-object-custom menu-item-131\"><a href=\"http://smallsocialsystems.com/profassn.html\">Associations</a></li>\\n</ul></div>&nbsp;</div></div><div id=\"categories-3\" class=\"widget_categories widget\"><div class=\"winner\"><h3 class=\"wtitle\">Categories&nbsp;</h3><select name=\\'cat\\' id=\\'cat\\' class=\\'postform\\' >\\n\\t<option value=\\'-1\\'>Select Category</option>\\n\\t<option class=\"level-0\" value=\"5\">Personal</option>\\n\\t<option class=\"level-0\" value=\"3\">Politics</option>\\n\\t<option class=\"level-0\" value=\"85\">Random Thoughts</option>\\n\\t<option class=\"level-0\" value=\"54\">Religion</option>\\n\\t<option class=\"level-0\" value=\"4\">Research</option>\\n\\t<option class=\"level-0\" value=\"48\">Romance</option>\\n\\t<option class=\"level-0\" value=\"1\">Uncategorized</option>\\n</select>\\n\\n<script type=\\'text/javascript\\'>\\n/* <![CDATA[ */\\n\\tvar dropdown = document.getElementById(\"cat\");\\n\\tfunction onCatChange() {\\n\\t\\tif ( dropdown.options[dropdown.selectedIndex].value > 0 ) {\\n\\t\\t\\tlocation.href = \"http://smallsocialsystems.com/blog/?cat=\"+dropdown.options[dropdown.selectedIndex].value;\\n\\t\\t}\\n\\t}\\n\\tdropdown.onchange = onCatChange;\\n/* ]]> */\\n</script>\\n\\n&nbsp;</div></div>\\t\\t<div id=\"recent-posts-3\" class=\"widget_recent_entries widget\"><div class=\"winner\">\\t\\t<h3 class=\"wtitle\">Recent Posts&nbsp;</h3>\\t\\t<ul>\\n\\t\\t\\t\\t\\t<li>\\n\\t\\t\\t\\t<a href=\"http://smallsocialsystems.com/blog/?p=223\" title=\"Meme-based reviews\">Meme-based reviews</a>\\n\\t\\t\\t\\t\\t\\t</li>\\n\\t\\t\\t\\t\\t<li>\\n\\t\\t\\t\\t<a href=\"http://smallsocialsystems.com/blog/?p=208\" title=\"Comparative Word Cloud\">Comparative Word Cloud</a>\\n\\t\\t\\t\\t\\t\\t</li>\\n\\t\\t\\t\\t\\t<li>\\n\\t\\t\\t\\t<a href=\"http://smallsocialsystems.com/blog/?p=202\" title=\"MPAA alternative\">MPAA alternative</a>\\n\\t\\t\\t\\t\\t\\t</li>\\n\\t\\t\\t\\t\\t<li>\\n\\t\\t\\t\\t<a href=\"http://smallsocialsystems.com/blog/?p=195\" title=\"Video game idea\">Video game idea</a>\\n\\t\\t\\t\\t\\t\\t</li>\\n\\t\\t\\t\\t\\t<li>\\n\\t\\t\\t\\t<a href=\"http://smallsocialsystems.com/blog/?p=158\" title=\"Casualties in the War in Afghanistan\">Casualties in the War in Afghanistan</a>\\n\\t\\t\\t\\t\\t\\t</li>\\n\\t\\t\\t\\t</ul>\\n\\t\\t&nbsp;</div></div><div id=\"tag_cloud-3\" class=\"widget_tag_cloud widget\"><div class=\"winner\"><h3 class=\"wtitle\">Tags&nbsp;</h3><div class=\"tagcloud\"><a href=\\'http://smallsocialsystems.com/blog/?tag=attitudes\\' class=\\'tag-link-27\\' title=\\'1 topic\\' style=\\'font-size: 8pt;\\'>attitudes</a>\\n<a href=\\'http://smallsocialsystems.com/blog/?tag=blogs\\' class=\\'tag-link-19\\' title=\\'1 topic\\' style=\\'font-size: 8pt;\\'>blogs</a>\\n<a href=\\'http://smallsocialsystems.com/blog/?tag=dating\\' class=\\'tag-link-36\\' title=\\'1 topic\\' style=\\'font-size: 8pt;\\'>dating</a>\\n<a href=\\'http://smallsocialsystems.com/blog/?tag=dissertation\\' class=\\'tag-link-53\\' title=\\'4 topics\\' style=\\'font-size: 18.181818181818pt;\\'>dissertation</a>\\n<a href=\\'http://smallsocialsystems.com/blog/?tag=drunk\\' class=\\'tag-link-33\\' title=\\'1 topic\\' style=\\'font-size: 8pt;\\'>drunk</a>\\n<a href=\\'http://smallsocialsystems.com/blog/?tag=einstein\\' class=\\'tag-link-24\\' title=\\'1 topic\\' style=\\'font-size: 8pt;\\'>einstein</a>\\n<a href=\\'http://smallsocialsystems.com/blog/?tag=friendship\\' class=\\'tag-link-16\\' title=\\'1 topic\\' style=\\'font-size: 8pt;\\'>friendship</a>\\n<a href=\\'http://smallsocialsystems.com/blog/?tag=girlfriend\\' class=\\'tag-link-47\\' title=\\'2 topics\\' style=\\'font-size: 12.581818181818pt;\\'>girlfriend</a>\\n<a href=\\'http://smallsocialsystems.com/blog/?tag=governance\\' class=\\'tag-link-12\\' title=\\'1 topic\\' style=\\'font-size: 8pt;\\'>governance</a>\\n<a href=\\'http://smallsocialsystems.com/blog/?tag=graduation\\' class=\\'tag-link-31\\' title=\\'1 topic\\' style=\\'font-size: 8pt;\\'>graduation</a>\\n<a href=\\'http://smallsocialsystems.com/blog/?tag=heirarchy\\' class=\\'tag-link-30\\' title=\\'1 topic\\' style=\\'font-size: 8pt;\\'>heirarchy</a>\\n<a href=\\'http://smallsocialsystems.com/blog/?tag=job\\' class=\\'tag-link-69\\' title=\\'3 topics\\' style=\\'font-size: 15.636363636364pt;\\'>job</a>\\n<a href=\\'http://smallsocialsystems.com/blog/?tag=love\\' class=\\'tag-link-42\\' title=\\'2 topics\\' style=\\'font-size: 12.581818181818pt;\\'>love</a>\\n<a href=\\'http://smallsocialsystems.com/blog/?tag=moods\\' class=\\'tag-link-7\\' title=\\'1 topic\\' style=\\'font-size: 8pt;\\'>moods</a>\\n<a href=\\'http://smallsocialsystems.com/blog/?tag=moving\\' class=\\'tag-link-71\\' title=\\'2 topics\\' style=\\'font-size: 12.581818181818pt;\\'>moving</a>\\n<a href=\\'http://smallsocialsystems.com/blog/?tag=needs\\' class=\\'tag-link-11\\' title=\\'1 topic\\' style=\\'font-size: 8pt;\\'>needs</a>\\n<a href=\\'http://smallsocialsystems.com/blog/?tag=news\\' class=\\'tag-link-21\\' title=\\'1 topic\\' style=\\'font-size: 8pt;\\'>news</a>\\n<a href=\\'http://smallsocialsystems.com/blog/?tag=norms\\' class=\\'tag-link-17\\' title=\\'1 topic\\' style=\\'font-size: 8pt;\\'>norms</a>\\n<a href=\\'http://smallsocialsystems.com/blog/?tag=nyc\\' class=\\'tag-link-72\\' title=\\'2 topics\\' style=\\'font-size: 12.581818181818pt;\\'>nyc</a>\\n<a href=\\'http://smallsocialsystems.com/blog/?tag=party\\' class=\\'tag-link-34\\' title=\\'1 topic\\' style=\\'font-size: 8pt;\\'>party</a>\\n<a href=\\'http://smallsocialsystems.com/blog/?tag=planning\\' class=\\'tag-link-56\\' title=\\'2 topics\\' style=\\'font-size: 12.581818181818pt;\\'>planning</a>\\n<a href=\\'http://smallsocialsystems.com/blog/?tag=poem\\' class=\\'tag-link-52\\' title=\\'5 topics\\' style=\\'font-size: 20.218181818182pt;\\'>poem</a>\\n<a href=\\'http://smallsocialsystems.com/blog/?tag=protest-letters\\' class=\\'tag-link-28\\' title=\\'1 topic\\' style=\\'font-size: 8pt;\\'>protest letters</a>\\n<a href=\\'http://smallsocialsystems.com/blog/?tag=quals\\' class=\\'tag-link-13\\' title=\\'1 topic\\' style=\\'font-size: 8pt;\\'>quals</a>\\n<a href=\\'http://smallsocialsystems.com/blog/?tag=random\\' class=\\'tag-link-15\\' title=\\'2 topics\\' style=\\'font-size: 12.581818181818pt;\\'>random</a>\\n<a href=\\'http://smallsocialsystems.com/blog/?tag=religion\\' class=\\'tag-link-54\\' title=\\'2 topics\\' style=\\'font-size: 12.581818181818pt;\\'>Religion</a>\\n<a href=\\'http://smallsocialsystems.com/blog/?tag=research\\' class=\\'tag-link-4\\' title=\\'2 topics\\' style=\\'font-size: 12.581818181818pt;\\'>Research</a>\\n<a href=\\'http://smallsocialsystems.com/blog/?tag=signal-processing\\' class=\\'tag-link-23\\' title=\\'1 topic\\' style=\\'font-size: 8pt;\\'>signal processing</a>\\n<a href=\\'http://smallsocialsystems.com/blog/?tag=single\\' class=\\'tag-link-35\\' title=\\'1 topic\\' style=\\'font-size: 8pt;\\'>single</a>\\n<a href=\\'http://smallsocialsystems.com/blog/?tag=skydiving\\' class=\\'tag-link-26\\' title=\\'1 topic\\' style=\\'font-size: 8pt;\\'>skydiving</a>\\n<a href=\\'http://smallsocialsystems.com/blog/?tag=social-chemistry\\' class=\\'tag-link-10\\' title=\\'1 topic\\' style=\\'font-size: 8pt;\\'>social chemistry</a>\\n<a href=\\'http://smallsocialsystems.com/blog/?tag=social-network\\' class=\\'tag-link-9\\' title=\\'3 topics\\' style=\\'font-size: 15.636363636364pt;\\'>social network</a>\\n<a href=\\'http://smallsocialsystems.com/blog/?tag=story-idea\\' class=\\'tag-link-25\\' title=\\'1 topic\\' style=\\'font-size: 8pt;\\'>story idea</a>\\n<a href=\\'http://smallsocialsystems.com/blog/?tag=summer\\' class=\\'tag-link-32\\' title=\\'1 topic\\' style=\\'font-size: 8pt;\\'>summer</a>\\n<a href=\\'http://smallsocialsystems.com/blog/?tag=tattoo\\' class=\\'tag-link-14\\' title=\\'1 topic\\' style=\\'font-size: 8pt;\\'>tattoo</a>\\n<a href=\\'http://smallsocialsystems.com/blog/?tag=terrorist\\' class=\\'tag-link-6\\' title=\\'1 topic\\' style=\\'font-size: 8pt;\\'>terrorist</a>\\n<a href=\\'http://smallsocialsystems.com/blog/?tag=time-capsule\\' class=\\'tag-link-37\\' title=\\'1 topic\\' style=\\'font-size: 8pt;\\'>time capsule</a>\\n<a href=\\'http://smallsocialsystems.com/blog/?tag=university\\' class=\\'tag-link-29\\' title=\\'1 topic\\' style=\\'font-size: 8pt;\\'>university</a>\\n<a href=\\'http://smallsocialsystems.com/blog/?tag=vegetarian\\' class=\\'tag-link-44\\' title=\\'2 topics\\' style=\\'font-size: 12.581818181818pt;\\'>vegetarian</a>\\n<a href=\\'http://smallsocialsystems.com/blog/?tag=vision\\' class=\\'tag-link-22\\' title=\\'1 topic\\' style=\\'font-size: 8pt;\\'>vision</a>\\n<a href=\\'http://smallsocialsystems.com/blog/?tag=weather\\' class=\\'tag-link-8\\' title=\\'1 topic\\' style=\\'font-size: 8pt;\\'>weather</a>\\n<a href=\\'http://smallsocialsystems.com/blog/?tag=wisdom\\' class=\\'tag-link-43\\' title=\\'3 topics\\' style=\\'font-size: 15.636363636364pt;\\'>wisdom</a>\\n<a href=\\'http://smallsocialsystems.com/blog/?tag=word-of-mouth\\' class=\\'tag-link-20\\' title=\\'1 topic\\' style=\\'font-size: 8pt;\\'>word of mouth</a>\\n<a href=\\'http://smallsocialsystems.com/blog/?tag=work\\' class=\\'tag-link-49\\' title=\\'6 topics\\' style=\\'font-size: 22pt;\\'>work</a>\\n<a href=\\'http://smallsocialsystems.com/blog/?tag=yahoo\\' class=\\'tag-link-68\\' title=\\'3 topics\\' style=\\'font-size: 15.636363636364pt;\\'>yahoo</a></div>\\n&nbsp;</div></div>\\t\\t\\t\\t\\r\\n\\t\\t</div><!--/sidebar -->\\n</div>\\n<div class=\"clear\"></div>\\n\\n\\n\\n<div  id=\"footer\">\\n\\t<div class=\"effect\">\\n\\t\\t<div class=\"content\">\\n\\t\\t\\t\\t\\t\\t<div id=\"fcolumns_container\" class=\"fix\">\\n\\t\\t\\t\\t\\t\\t\\t\\t\\t<div class=\"fcol\">\\n\\t\\t\\t\\t\\t\\t<div class=\"fcol_pad\">\\n\\t\\t\\t\\t\\t\\t\\t\\t\\t\\t\\t\\t\\t\\t\\t<h3 class=\"footer-site-title\"><a class=\"home\" href=\"http://smallsocialsystems.com/blog/\" title=\"Home\">scintillae</a></h3>\\n\\t\\t\\t\\t\\t\\t\\t\\t\\t\\t\\t\\t\\t</div>\\n\\t\\t\\t\\t\\t</div>\\n\\t\\t\\t\\t\\t<div class=\"fcol\">\\n\\t\\t\\t\\t\\t\\t<div class=\"fcol_pad\">\\n\\t\\t\\t\\t\\t\\t\\t<h3>Pages</h3>\\n\\t\\t\\t\\t\\t\\t\\t<div class=\"footer_nav\"></div>\\n\\t\\t\\t\\t\\t\\t</div>\\n\\t\\t\\t\\t\\t</div>\\n\\t\\t\\t\\t\\t<div class=\"fcol\">\\n\\t\\t\\t\\t\\t\\t<div class=\"fcol_pad\">\\n\\t\\t\\t\\t\\t\\t\\t<h3>Stay In Touch</h3>\\n\\t\\t\\t\\t\\t\\t\\t<div class=\"footer_nav\"></div>\\n\\n\\t\\t\\t\\t\\t\\t</div>\\n\\t\\t\\t\\t\\t</div>\\n\\t\\t\\t\\t\\t<div class=\"fcol\">\\n\\t\\t\\t\\t\\t\\t<div class=\"fcol_pad\">\\n\\t\\t\\t\\t\\t\\t\\t<h3>More</h3>\\n\\t\\t\\t\\t\\t\\t\\t<div class=\"welcomemessage\">Many posts can\\'t be seen if you\\'re not logged in.  Please sign up!</div>\\t\\t\\t\\t\\t\\t</div>\\n\\t\\t\\t\\t\\t</div>\\n\\t\\t\\t\\t\\t<div class=\"fcol\">\\n\\t\\t\\t\\t\\t\\t<div class=\"fcol_pad\">\\n\\t\\t\\t\\t\\t\\t\\t<span class=\"terms\">\\n\\t\\t\\t\\t\\t\\t\\t\\t\\xc2\\xa9 2010 Winter Mason\\t\\t\\t\\t\\t\\t\\t</span>\\n\\t\\t\\t\\t\\t\\t</div>\\n\\t\\t\\t\\t\\t</div>\\n\\t\\t\\t\\t\\t\\t\\t</div>\\n\\t\\n\\t\\t\\n\\t\\t\\t<div class=\"clear\"></div>\\n\\t\\t</div>\\t\\t\\n\\t</div>\\n\\n\\n</div>\\n\\t<div class=\"clear\"></div>\\n\\t\\t\\t<div id=\"cred\" class=\"pagelines\">\\n\\t\\t\\t<a class=\"plimage\" target=\"_blank\" href=\"http://www.pagelines.com\" title=\"iBlog by PageLines\">\\n\\t\\t\\t\\t<img src=\"http://smallsocialsystems.com/blog/wp-content/themes/iblog/images/pagelines.png\" alt=\"iBlog by PageLines\" />\\n\\t\\t\\t</a>\\n\\t\\t</div>\\n\\t \\t<hr class=\"hidden\" />\\n\\n  </div><!--/wrapper -->\\n\\n</div><!--/page -->\\n\\n<!-- Footer Scripts Go Here -->\\n<!-- End Footer scripts -->\\n\\n</body>\\n</html>'"
       ]
      }
     ],
     "prompt_number": 29
    },
    {
     "cell_type": "code",
     "collapsed": false,
     "input": [
      "# POST method\n",
      "params = urllib.urlencode({'p': 208}) \n",
      "f = urllib.urlopen('http://smallsocialsystems.com/blog/', params)\n",
      "f.read()"
     ],
     "language": "python",
     "metadata": {},
     "outputs": []
    },
    {
     "cell_type": "heading",
     "level": 3,
     "metadata": {},
     "source": [
      "Beautiful Soup"
     ]
    },
    {
     "cell_type": "code",
     "collapsed": false,
     "input": [
      "import BeautifulSoup as bs4"
     ],
     "language": "python",
     "metadata": {},
     "outputs": [],
     "prompt_number": 31
    },
    {
     "cell_type": "code",
     "collapsed": false,
     "input": [
      "f = urllib.urlopen('http://smallsocialsystems.com')\n",
      "sss_html = f.read()\n",
      "sssoup = bs4.BeautifulSoup(sss_html)"
     ],
     "language": "python",
     "metadata": {},
     "outputs": [],
     "prompt_number": 50
    },
    {
     "cell_type": "code",
     "collapsed": true,
     "input": [
      "print(sssoup.prettify())"
     ],
     "language": "python",
     "metadata": {},
     "outputs": [
      {
       "output_type": "stream",
       "stream": "stdout",
       "text": [
        "<html>\n",
        " <head>\n",
        "  <title>\n",
        "   Small Social Systems\n",
        "  </title>\n",
        "  <style type=\"text/css\">\n",
        "   @import \"./homepage.css\";\n",
        "  </style>\n",
        " </head>\n",
        " <body>\n",
        "  <div id=\"maintitle\">\n",
        "   <a id=\"home\" href=\"./index.html\">\n",
        "    small social systems\n",
        "   </a>\n",
        "  </div>\n",
        "  <div id=\"mainbuttons\">\n",
        "   <div class=\"buttonwrapper\">\n",
        "    <a class=\"bigbutton\" id=\"aboutbutton\" href=\"./about.html\">\n",
        "    </a>\n",
        "    <a class=\"buttonlabel\" href=\"./about.html\">\n",
        "     About Me\n",
        "    </a>\n",
        "   </div>\n",
        "   <div class=\"buttonwrapper\">\n",
        "    <a class=\"bigbutton\" id=\"cvbutton\" href=\"./cv.html\">\n",
        "    </a>\n",
        "    <a class=\"buttonlabel\" href=\"./cv.html\">\n",
        "     Publications\n",
        "    </a>\n",
        "   </div>\n",
        "   <div class=\"buttonwrapper\">\n",
        "    <a class=\"bigbutton\" id=\"researchbutton\" href=\"./research.html\">\n",
        "    </a>\n",
        "    <a class=\"buttonlabel\" href=\"./research.html\">\n",
        "     Research\n",
        "    </a>\n",
        "   </div>\n",
        "   <!-- &lt;div class=\"buttonwrapper\"&gt;\n",
        "\t\t\t&lt;a class=\"bigbutton\" id=\"assnbutton\" href=\"./profassn.html\"&gt;&lt;/a&gt;\n",
        "\t\t\t&lt;a class=\"buttonlabel\" href=\"./profassn.html\"&gt;Associations&lt;/a&gt;\n",
        "\t\t&lt;/div&gt; -->\n",
        "   <div class=\"buttonwrapper\">\n",
        "    <a class=\"bigbutton\" id=\"blogbutton\" href=\"./blog/index.php\">\n",
        "    </a>\n",
        "    <a class=\"buttonlabel\" href=\"./blog/index.php\">\n",
        "     Blog\n",
        "    </a>\n",
        "   </div>\n",
        "  </div>\n",
        " </body>\n",
        "</html>\n"
       ]
      }
     ],
     "prompt_number": 51
    },
    {
     "cell_type": "code",
     "collapsed": false,
     "input": [
      "sssoup.title"
     ],
     "language": "python",
     "metadata": {},
     "outputs": [
      {
       "metadata": {},
       "output_type": "pyout",
       "prompt_number": 34,
       "text": [
        "<title>  Comparative Word Cloud</title>"
       ]
      }
     ],
     "prompt_number": 34
    },
    {
     "cell_type": "code",
     "collapsed": false,
     "input": [
      "sssoup.title.string"
     ],
     "language": "python",
     "metadata": {},
     "outputs": [
      {
       "metadata": {},
       "output_type": "pyout",
       "prompt_number": 35,
       "text": [
        "u'  Comparative Word Cloud'"
       ]
      }
     ],
     "prompt_number": 35
    },
    {
     "cell_type": "code",
     "collapsed": true,
     "input": [
      "for elem in sssoup.findAll('a',class_='buttonlabel'):\n",
      "    print elem"
     ],
     "language": "python",
     "metadata": {},
     "outputs": [],
     "prompt_number": 56
    },
    {
     "cell_type": "code",
     "collapsed": false,
     "input": [
      "f = urllib.urlopen('http://smallsocialsystems.com/blog/?%s' % params)\n",
      "sss_html = f.read()\n",
      "sssoup = bs4.BeautifulSoup(sss_html)\n",
      "for link in sssoup.findAll('a'):\n",
      "    print(link.get('href'))"
     ],
     "language": "python",
     "metadata": {},
     "outputs": [
      {
       "output_type": "stream",
       "stream": "stdout",
       "text": [
        "http://smallsocialsystems.com/blog\n",
        "http://smallsocialsystems.com/blog/?feed=rss2\n",
        "http://smallsocialsystems.com/blog/\n",
        "http://smallsocialsystems.com/blog/?p=202\n",
        "http://smallsocialsystems.com/blog/?p=223\n",
        "http://smallsocialsystems.com/blog/?p=208\n",
        "http://smallsocialsystems.com/blog/?cat=4\n",
        "http://www.drewconway.com/\n",
        "http://www.drewconway.com/zia/?p=2624\n",
        "http://andrewgelman.com/2011/02/the_best_data_v/\n",
        "http://en.wikipedia.org/wiki/2011_Tucson_shooting\n",
        "http://smallsocialsystems.com/blog/wp-content/uploads/2012/03/palin_wordle.png\n",
        "http://smallsocialsystems.com/blog/wp-content/uploads/2012/03/obama_wordle.png\n",
        "https://github.com/drewconway/ZIA/tree/master/R/better_word_cloud\n",
        "http://smallsocialsystems.com/blog/wp-content/uploads/2012/03/tuscon_cloud.png\n",
        "http://smallsocialsystems.com/blog/wp-content/uploads/2012/03/tuscon_cloud2.png\n",
        "http://cran.r-project.org/web/packages/tm/index.html\n",
        "http://had.co.nz/ggplot2/\n",
        "http://github.com/winteram/Comparative-Word-Cloud\n",
        "http://twitter.com/home/?status=Comparative Word Cloud%20http://smallsocialsystems.com/blog/?p=208\n",
        "http://del.icio.us/post?url=http://smallsocialsystems.com/blog/?p=208&title=Comparative Word Cloud\n",
        "http://digg.com/submit?phase=2&url=http://smallsocialsystems.com/blog/?p=208&title=Comparative Word Cloud\n",
        "http://smallsocialsystems.com/blog/?p=208&cpage=1#comment-12376\n",
        "http://blog.fellstat.com/?p=101\n",
        "http://geroldkathan.wordpress.com/2013/03/14/real-world-ea-our-tagcloud/\n",
        "http://smallsocialsystems.com/blog/?p=208&cpage=1#comment-83343\n",
        "/blog/?p=208&alpha=a+string+%26+stuff#respond\n",
        "http://www.twitter.com/winteram\n",
        "http://smallsocialsystems.com/blog/wp-login.php\n",
        "http://smallsocialsystems.com/blog/?feed=rss2\n",
        "http://smallsocialsystems.com/blog/?feed=comments-rss2\n",
        "http://wordpress.org/\n",
        "http://smallsocialsystems.com/about.html\n",
        "http://smallsocialsystems.com/cv.html\n",
        "http://smallsocialsystems.com/research.html\n",
        "http://smallsocialsystems.com/profassn.html\n",
        "http://smallsocialsystems.com/blog/?p=223\n",
        "http://smallsocialsystems.com/blog/?p=208\n",
        "http://smallsocialsystems.com/blog/?p=202\n",
        "http://smallsocialsystems.com/blog/?p=195\n",
        "http://smallsocialsystems.com/blog/?p=158\n",
        "http://smallsocialsystems.com/blog/?tag=attitudes\n",
        "http://smallsocialsystems.com/blog/?tag=blogs\n",
        "http://smallsocialsystems.com/blog/?tag=dating\n",
        "http://smallsocialsystems.com/blog/?tag=dissertation\n",
        "http://smallsocialsystems.com/blog/?tag=drunk\n",
        "http://smallsocialsystems.com/blog/?tag=einstein\n",
        "http://smallsocialsystems.com/blog/?tag=friendship\n",
        "http://smallsocialsystems.com/blog/?tag=girlfriend\n",
        "http://smallsocialsystems.com/blog/?tag=governance\n",
        "http://smallsocialsystems.com/blog/?tag=graduation\n",
        "http://smallsocialsystems.com/blog/?tag=heirarchy\n",
        "http://smallsocialsystems.com/blog/?tag=job\n",
        "http://smallsocialsystems.com/blog/?tag=love\n",
        "http://smallsocialsystems.com/blog/?tag=moods\n",
        "http://smallsocialsystems.com/blog/?tag=moving\n",
        "http://smallsocialsystems.com/blog/?tag=needs\n",
        "http://smallsocialsystems.com/blog/?tag=news\n",
        "http://smallsocialsystems.com/blog/?tag=norms\n",
        "http://smallsocialsystems.com/blog/?tag=nyc\n",
        "http://smallsocialsystems.com/blog/?tag=party\n",
        "http://smallsocialsystems.com/blog/?tag=planning\n",
        "http://smallsocialsystems.com/blog/?tag=poem\n",
        "http://smallsocialsystems.com/blog/?tag=protest-letters\n",
        "http://smallsocialsystems.com/blog/?tag=quals\n",
        "http://smallsocialsystems.com/blog/?tag=random\n",
        "http://smallsocialsystems.com/blog/?tag=religion\n",
        "http://smallsocialsystems.com/blog/?tag=research\n",
        "http://smallsocialsystems.com/blog/?tag=signal-processing\n",
        "http://smallsocialsystems.com/blog/?tag=single\n",
        "http://smallsocialsystems.com/blog/?tag=skydiving\n",
        "http://smallsocialsystems.com/blog/?tag=social-chemistry\n",
        "http://smallsocialsystems.com/blog/?tag=social-network\n",
        "http://smallsocialsystems.com/blog/?tag=story-idea\n",
        "http://smallsocialsystems.com/blog/?tag=summer\n",
        "http://smallsocialsystems.com/blog/?tag=tattoo\n",
        "http://smallsocialsystems.com/blog/?tag=terrorist\n",
        "http://smallsocialsystems.com/blog/?tag=time-capsule\n",
        "http://smallsocialsystems.com/blog/?tag=university\n",
        "http://smallsocialsystems.com/blog/?tag=vegetarian\n",
        "http://smallsocialsystems.com/blog/?tag=vision\n",
        "http://smallsocialsystems.com/blog/?tag=weather\n",
        "http://smallsocialsystems.com/blog/?tag=wisdom\n",
        "http://smallsocialsystems.com/blog/?tag=word-of-mouth\n",
        "http://smallsocialsystems.com/blog/?tag=work\n",
        "http://smallsocialsystems.com/blog/?tag=yahoo\n",
        "http://smallsocialsystems.com/blog/\n",
        "http://www.pagelines.com\n"
       ]
      }
     ],
     "prompt_number": 42
    },
    {
     "cell_type": "heading",
     "level": 3,
     "metadata": {},
     "source": [
      "mechanize"
     ]
    },
    {
     "cell_type": "code",
     "collapsed": false,
     "input": [
      "import mechanize"
     ],
     "language": "python",
     "metadata": {},
     "outputs": [],
     "prompt_number": 57
    },
    {
     "cell_type": "code",
     "collapsed": false,
     "input": [
      "br = mechanize.Browser()\n",
      "br.set_handle_robots(False)\n",
      "br.addheaders = [('User-agent', 'Mozilla/5.0 (X11; U; Linux i686; en-US; rv:1.9.0.1) Gecko/2008071615 Fedora/3.0.1-1.fc9 Firefox/3.0.1')]"
     ],
     "language": "python",
     "metadata": {},
     "outputs": [],
     "prompt_number": 63
    },
    {
     "cell_type": "code",
     "collapsed": false,
     "input": [
      "r = br.open('http://smallsocialsystems.com/blog/?p=208')"
     ],
     "language": "python",
     "metadata": {},
     "outputs": [],
     "prompt_number": 83
    },
    {
     "cell_type": "code",
     "collapsed": false,
     "input": [
      "r.read()"
     ],
     "language": "python",
     "metadata": {},
     "outputs": [
      {
       "metadata": {},
       "output_type": "pyout",
       "prompt_number": 84,
       "text": [
        "'<!DOCTYPE html PUBLIC \"-//W3C//DTD XHTML 1.0 Transitional//EN\" \"http://www.w3.org/TR/xhtml1/DTD/xhtml1-transitional.dtd\">\\n<html xmlns=\"http://www.w3.org/1999/xhtml\" lang=\"en-US\">\\n  <head profile=\"http://gmpg.org/xfn/11\">\\n\\t<meta http-equiv=\"Content-Type\" content=\"text/html; charset=UTF-8\" />\\n\\n<!-- Meta Images -->\\n\\t<link rel=\"shortcut icon\" href=\"http://smallsocialsystems.com/images/50blog.jpg\" type=\"image/x-icon\" />\\t\\n<!-- Title and External Script Integration -->\\n\\t\\t\\t<title>  Comparative Word Cloud</title>\\n\\t\\t\\n<!-- Stylesheets -->\\n\\n\\t<link rel=\"stylesheet\" href=\"http://smallsocialsystems.com/blog/wp-content/themes/iblog/style.css\" type=\"text/css\" media=\"screen\" />\\t\\n\\t<style type=\"text/css\">\\n\\n\\n\\n\\n\\n\\n\\n\\n\\n\\t\\n\\n\\n\\n</style>\\n\\t\\n\\n<!-- Wordpress Stuff -->\\n\\t<meta name=\"generator\" content=\"WordPress 3.5.1\" /> <!-- leave this for stats -->\\n\\t<link rel=\"pingback\" href=\"http://smallsocialsystems.com/blog/xmlrpc.php\" />\\n\\t <!-- This makes the comment box appear where the \\xe2\\x80\\x98reply to this comment\\xe2\\x80\\x99 link is -->\\n\\t\\n<!-- Modules w/ Javascript -->\\t\\n\\t\\t\\t\\t\\t<!-- IE -->\\n\\n<!--[if IE 6]>\\n\\t<script src=\"http://smallsocialsystems.com/blog/wp-content/themes/iblog/core/js/belatedpng.js\"></script>\\n\\t<script>\\n\\t  DD_belatedPNG.fix(\\'.pngbg, a.home, #nav,.searchform .left, .searchform .right, .searchform .s, .fcol_pad img, .fbox img, #respond h3, #cred.pagelines a, .post .date, .headerimage, #sidebar div ul li a\\');\\n\\t </script>\\t\\n\\t<style>\\n\\t\\t#header #blogtitle .sheen {display: none;height: 1px;}\\n\\t\\t#featurenav a span.nav_thumb span.nav_overlay {background: transparent;display:none}\\n\\t\\t #nav ul li {background: transparent}\\n\\t\\t.fbox {overflow:hidden}\\n\\t</style>\\n<![endif]-->\\t\\n\\n<!-- Font Replacement -->\\n  \\t\\t\\t\\n\\t<link rel=\"alternate\" type=\"application/rss+xml\" title=\"scintillae &raquo; Feed\" href=\"http://smallsocialsystems.com/blog/?feed=rss2\" />\\n<link rel=\"alternate\" type=\"application/rss+xml\" title=\"scintillae &raquo; Comments Feed\" href=\"http://smallsocialsystems.com/blog/?feed=comments-rss2\" />\\n<link rel=\"alternate\" type=\"application/rss+xml\" title=\"scintillae &raquo; Comparative Word Cloud Comments Feed\" href=\"http://smallsocialsystems.com/blog/?feed=rss2&#038;p=208\" />\\n<!--[if lte IE 7]>\\n<link rel=\\'stylesheet\\' id=\\'ie7-style-css\\'  href=\\'http://smallsocialsystems.com/blog/wp-content/themes/iblog/css/ie7.css?ver=3.5.1\\' type=\\'text/css\\' media=\\'all\\' />\\n<![endif]-->\\n<script type=\\'text/javascript\\' src=\\'http://smallsocialsystems.com/blog/wp-includes/js/comment-reply.min.js?ver=3.5.1\\'></script>\\n<script type=\\'text/javascript\\' src=\\'http://smallsocialsystems.com/blog/wp-includes/js/jquery/jquery.js?ver=1.8.3\\'></script>\\n<link rel=\"EditURI\" type=\"application/rsd+xml\" title=\"RSD\" href=\"http://smallsocialsystems.com/blog/xmlrpc.php?rsd\" />\\n<link rel=\"wlwmanifest\" type=\"application/wlwmanifest+xml\" href=\"http://smallsocialsystems.com/blog/wp-includes/wlwmanifest.xml\" /> \\n<link rel=\\'prev\\' title=\\'MPAA alternative\\' href=\\'http://smallsocialsystems.com/blog/?p=202\\' />\\n<link rel=\\'next\\' title=\\'Meme-based reviews\\' href=\\'http://smallsocialsystems.com/blog/?p=223\\' />\\n<meta name=\"generator\" content=\"WordPress 3.5.1\" />\\n<link rel=\\'canonical\\' href=\\'http://smallsocialsystems.com/blog/?p=208\\' />\\n</head>\\n<body class=\"single single-post postid-208 single-format-standard\">\\n\\n<div id=\"page\" class=\"fix\">\\n  <div id=\"wrapper\" class=\"fix\" >\\n    <div id=\"header\" class=\"fix\">\\n\\t\\t\\t      \\t\\t<h1 id=\"blogtitle\"><a href=\"http://smallsocialsystems.com/blog\"><span class=\"sheen\"></span>scintillae</a></h1>\\n\\t      \\t\\t<div id=\"blogdescription\">random sparks</div>\\n\\t\\t\\t\\t<!-- iphone icons -->\\n\\t<div class=\"icons\">\\n\\n\\t\\t\\t\\t\\t\\t\\t\\t<div class=\"nav-icon\">\\n\\t\\t\\t\\t<a href=\\'http://smallsocialsystems.com/blog/?feed=rss2\\'><img class=\"pngbg\" src=\"http://smallsocialsystems.com/blog/wp-content/themes/iblog/images/iphone/rss.png\" alt=\"icon\"/></a>\\n\\t\\t\\t</div>\\n\\t\\t\\t\\t\\t\\t\\t\\t\\t\\n\\t\\t\\t\\n\\t\\t\\t\\t\\t\\t\\t\\t\\t\\n\\t\\t\\t\\t\\t\\n\\t\\t\\t\\t\\t\\t\\t</div>\\n<!-- /end iphone icons -->\\t\\n\\t</div><!-- /header -->\\n\\t<div id=\"nav\" class=\"fix\">\\n\\t<ul class=\"fix homebutton\">\\n\\t\\t<li class=\"page_item navfirst\">\\n\\t\\t\\n\\t\\t\\t<a class=\"home\" href=\"http://smallsocialsystems.com/blog/\" title=\"Home\" style=\"background-image: url(\\'http://smallsocialsystems.com/blog/wp-content/themes/iblog/images/home-icon-trans.png\\');\">\\n\\t\\t\\t\\tHome\\t\\n\\t\\t\\t</a>\\n\\t\\t</li>\\n\\t</ul>\\n\\t\\t\\t<div class=\"mnav dropdown fix\"></div>\\n\\t\\t\\t\\t<form method=\"get\" class=\"searchform\" action=\"http://smallsocialsystems.com/blog/\">\\n\\t<span class=\"left\"></span>\\n\\t\\t<input type=\"text\" value=\"Search\" name=\"s\" class=\"s\" onfocus=\"if (this.value == \\'Search\\') {this.value = \\'\\';}\" onblur=\"if (this.value == \\'\\') {this.value = \\'Search\\';}\" />\\n\\t<span class=\"right\"></span>\\n\\t<input type=\"submit\" class=\"searchsubmit\" value=\"Go\" />\\n</form>\\n\\t<div class=\"clear\"></div>\\n</div><!-- /nav -->\\n\\n\\t<div id=\"container\" class=\"fix \">\\n\\t\\t<!-- Code for subnav if pages have parents.. -->\\n\\n<div id=\"maincontent\">\\n<div id=\"content\">\\n\\n\\t \\t\\t\\t<div class=\"post-nav\"> <span class=\"previous\"><a href=\"http://smallsocialsystems.com/blog/?p=202\" rel=\"prev\">MPAA alternative</a></span> <span class=\"next\"><a href=\"http://smallsocialsystems.com/blog/?p=223\" rel=\"next\">Meme-based reviews</a></span></div>\\n\\t\\t\\n\\t\\t\\t\\n\\t<div class=\"postwrap fix\">\\n\\t\\t\\n\\t\\t<div class=\"post-208 post type-post status-publish format-standard hentry category-research\" id=\"post-208\">\\n\\t\\t\\t\\t\\n\\t\\t\\t<div class=\"copy fix\">\\t\\t\\n\\t\\t\\t\\t\\n\\t\\t\\t\\t\\t\\t\\t\\t\\t\\t\\n\\t\\t\\t\\t\\t<div class=\"post-header fix post-nothumb\">\\n\\t\\t\\t\\t\\t\\t<div class=\"post-title-section fix\">\\n\\t\\t\\t\\t\\t\\t\\t<div class=\"post-title fix\">\\n\\t\\t\\t\\t\\t\\t\\t\\t<h2><a href=\"http://smallsocialsystems.com/blog/?p=208\" rel=\"bookmark\" title=\"Permanent Link to Comparative Word Cloud\">Comparative Word Cloud</a></h2>\\n\\n\\t\\t\\t\\t\\t\\t\\t\\t<div class=\"metabar\">\\n\\t\\t\\t\\t\\t\\t\\t\\t\\t<em>\\n\\t\\t\\t\\t\\t\\t\\t\\t\\tOn March 2, 2012, \\n\\t\\t\\t\\t\\t\\t\\t\\t\\tin <a href=\"http://smallsocialsystems.com/blog/?cat=4\" title=\"View all posts in Research\" rel=\"category\">Research</a>, \\n\\t\\t\\t\\t\\t\\t\\t\\t\\tby Winter\\t\\t\\t\\t\\t\\t\\t\\t\\t\\t\\t\\t\\t\\t\\t\\t\\t\\t</em>\\n\\t\\t\\t\\t\\t\\t\\t\\t</div>\\n\\t\\t\\t\\t\\t\\t\\t</div>\\n\\t\\t\\t\\t\\t\\t</div>\\n\\t\\t\\t\\t\\t\\t<!--/post-title -->\\n\\n\\t\\t\\t\\t\\t\\t\\t\\t\\t\\t\\t</div>\\t\\t\\t\\t\\n\\t\\t\\t\\n\\t\\t\\t</div>\\n\\t\\t\\t\\t\\t\\t  \\t\\n\\t\\t\\t\\t<div class=\"copy fix\">\\n\\t\\t\\t\\t\\t\\t\\t\\t\\t\\t<div class=\"textcontent\">\\n\\t\\t\\t\\t\\t\\t<p>A little over a year ago, <a href=\"http://www.drewconway.com/\" target=\"_blank\">Drew Conway</a> wrote about <a href=\"http://www.drewconway.com/zia/?p=2624\" target=\"_blank\">the awfulness of word clouds</a>, or in his own words, &#8220;Word clouds are teh suck&#8221;. \\xc2\\xa0To be fair, word clouds aren&#8217;t really awful, they&#8217;re just a poor use of space. \\xc2\\xa0The only information you actually get out of a word cloud is limited to the size of the words, but it&#8217;s sort of pretty and makes you feel like you&#8217;re discovering something (as noted by <a href=\"http://andrewgelman.com/2011/02/the_best_data_v/\" target=\"_blank\">Andrew Gelman</a>). \\xc2\\xa0As an example, I&#8217;ll use the same &#8220;wordles&#8221; that Drew used in his post, taken from the text of Obama &amp; Palin&#8217;s speeches about <a href=\"http://en.wikipedia.org/wiki/2011_Tucson_shooting\" target=\"_blank\">the shooting of Congresswoman Gabrielle Giffords in Tuscon, Arizona</a>.</p>\\n<p><a href=\"http://smallsocialsystems.com/blog/wp-content/uploads/2012/03/palin_wordle.png\"><img class=\"alignnone size-medium wp-image-210\" title=\"palin_wordle\" src=\"http://smallsocialsystems.com/blog/wp-content/uploads/2012/03/palin_wordle-300x149.png\" alt=\"\" width=\"300\" height=\"149\" /></a><a href=\"http://smallsocialsystems.com/blog/wp-content/uploads/2012/03/obama_wordle.png\"><img class=\"alignnone size-medium wp-image-209\" title=\"obama_wordle\" src=\"http://smallsocialsystems.com/blog/wp-content/uploads/2012/03/obama_wordle-300x165.png\" alt=\"\" width=\"300\" height=\"165\" /></a></p>\\n<p>In response to this, Drew built his own word cloud that had more substance than these classic word clouds. \\xc2\\xa0This version has a direct comparison of two pieces of text, sorted on the x-axis by the relative frequency of occurrence, and sized by the frequency in the text it appeared the most in. \\xc2\\xa0I present the example from his post here, and the corresponding code is <a href=\"https://github.com/drewconway/ZIA/tree/master/R/better_word_cloud\" target=\"_blank\">here</a>.</p>\\n<p><a href=\"http://smallsocialsystems.com/blog/wp-content/uploads/2012/03/tuscon_cloud.png\"><img class=\"alignnone  wp-image-211\" title=\"A Better Word Cloud\" src=\"http://smallsocialsystems.com/blog/wp-content/uploads/2012/03/tuscon_cloud-1024x551.png\" alt=\"\" width=\"600\" height=\"324\" /></a></p>\\n<p>A little over a month ago, I was working on a project and the idea for using word clouds came up, and I thought this was a perfect opportunity since we wanted to compare texts. \\xc2\\xa0However, the texts we wanted to use were much larger than the speeches used in the example, so the words were jammed together an unreadable. \\xc2\\xa0Even after paring it down the resulting image, although more informative, was just not as pretty as the word clouds. \\xc2\\xa0So I set about trying to improve on Drew&#8217;s solution. \\xc2\\xa0I present my updated version below, followed by an exposition of how it is created.</p>\\n<p><a href=\"http://smallsocialsystems.com/blog/wp-content/uploads/2012/03/tuscon_cloud2.png\"><img class=\"alignnone  wp-image-213\" title=\"Comparative Word Cloud\" src=\"http://smallsocialsystems.com/blog/wp-content/uploads/2012/03/tuscon_cloud2-1024x512.png\" alt=\"\" width=\"600\" height=\"324\" /></a></p>\\n<p>I really only made one modification. \\xc2\\xa0The leftmost edge of every word is the exact relative frequency between the two documents, rather than binning the frequencies. \\xc2\\xa0The size of the words corresponds to the relative frequency across all documents. \\xc2\\xa0So &#8220;values&#8221; was said more by Palin than Obama, and &#8220;country&#8221; was said slightly more often by Obama than &#8220;values&#8221; (it&#8217;s more to the right), and much more frequently overall by both candidates (it&#8217;s significantly larger).</p>\\n<p>Of course, without any further modification all of the words would be piled on top of each other, so the code shifts the words up and down until they&#8217;ve found a place where they don&#8217;t overlap other words. \\xc2\\xa0To do this, it starts at the leftmost end and keeps track of the x-position, height and width of each word. \\xc2\\xa0The resulting image, I believe, has the &#8220;discovery&#8221; feeling of the classic wordles, but the informativeness of Drew&#8217;s better word cloud. \\xc2\\xa0The image was created with R (specifically <a href=\"http://cran.r-project.org/web/packages/tm/index.html\" target=\"_blank\">tm</a> and <a href=\"http://had.co.nz/ggplot2/\" target=\"_blank\">ggplot</a>), and the code can be found <a href=\"http://github.com/winteram/Comparative-Word-Cloud\" target=\"_blank\">here</a>.</p>\\n\\t\\t\\t\\t\\t\\t<div class=\"clear\"></div>\\t\\n\\t\\t\\t\\t\\t\\t\\t\\t\\t\\t\\t\\t\\t\\n\\t\\t\\t\\t\\t\\t<div class=\"clear\"></div>\\n\\t\\t\\t\\t\\t</div>\\t\\n\\t\\t\\t\\t</div>\\n\\t\\t\\t\\t\\t\\t\\t\\t\\t\\t\\t\\t\\n\\t\\t\\t\\t\\t\\t\\t\\t\\n\\t\\t\\t\\n<div class=\"hl\"></div>\\n\\t<div class=\"post-footer\">\\n\\t\\t\\t\\t\\t<div class=\"left\">\\n\\t\\t\\t\\t\\t\\t\\t\\tShare this!\\t\\n\\t\\t\\t</div>\\n\\t\\t\\t<div class=\"right\">\\n\\t\\t\\t\\t\\t \\n\\t\\t\\t\\t\\t<a href=\"http://twitter.com/home/?status=Comparative Word Cloud%20http://smallsocialsystems.com/blog/?p=208\" title=\"Share on Twitter\" rel=\"nofollow\" target=\"_blank\"><img src=\"http://smallsocialsystems.com/blog/wp-content/themes/iblog/images/icons/ico-twitter.png\" alt=\"Twitter\" /></a> \\n\\t\\t\\t\\t\\t<a href=\"http://del.icio.us/post?url=http://smallsocialsystems.com/blog/?p=208&title=Comparative Word Cloud\" title=\"Share on Delicious\" rel=\"nofollow\" target=\"_blank\"><img src=\"http://smallsocialsystems.com/blog/wp-content/themes/iblog/images/icons/ico-del.png\" alt=\"Delicious\" /></a>\\t\\t\\t\\t\\t\\t\\t\\t\\t\\t\\t\\t\\t\\t\\t<a href=\"http://digg.com/submit?phase=2&url=http://smallsocialsystems.com/blog/?p=208&title=Comparative Word Cloud\" title=\"Share on Digg\" rel=\"nofollow\" target=\"_blank\"><img src=\"http://smallsocialsystems.com/blog/wp-content/themes/iblog/images/icons/ico-digg.png\" alt=\"Digg\" /></a>\\t\\t\\t\\t\\n\\t\\t\\t</div>\\n\\t\\t\\t\\t<br class=\"fix\" />\\n\\t\\t\\n\\t</div>\\t\\t</div><!--post -->\\n\\n\\t</div>\\n\\t\\n\\t\\t\\t<div class=\"tags\">\\n\\t\\t\\t&nbsp;\\n\\t\\t</div>\\n\\t\\t\\n\\t<div class=\"clear\"></div>\\n\\t\\n\\t\\t\\t\\t\\n\\t\\t\\t\\t\\t\\t\\n\\t\\t\\t<div class=\"postwrap commentswrap \">\\t\\n\\t\\t\\t<div class=\"hentry\">\\t\\t\\n\\t\\t\\t\\t<div class=\"copy\"> \\r\\n<div id=\"comments\">\\r\\n\\t\\r\\n\\t\\t\\t\\t<h3 id=\"comments-title\">2 Responses to <em>Comparative Word Cloud</em></h3>\\r\\n\\r\\n\\t\\t\\t<ol class=\"commentlist\">\\r\\n\\t\\t\\t\\t\\t\\t<li class=\"comment even thread-even depth-1\" id=\"comment-12376\">\\n\\t\\t\\t\\t<div id=\"div-comment-12376\" class=\"comment-body\">\\n\\t\\t\\t\\t<div class=\"comment-author vcard\">\\n\\t\\t<img alt=\\'\\' src=\\'http://0.gravatar.com/avatar/87498ed9ab546e77bf4b90018a31702c?s=32&amp;d=http%3A%2F%2F0.gravatar.com%2Favatar%2Fad516503a11cd5ca435acc9bb6523536%3Fs%3D32&amp;r=G\\' class=\\'avatar avatar-32 photo\\' height=\\'32\\' width=\\'32\\' />\\t\\t<cite class=\"fn\">Ian</cite> <span class=\"says\">says:</span>\\t\\t</div>\\n\\n\\t\\t<div class=\"comment-meta commentmetadata\"><a href=\"http://smallsocialsystems.com/blog/?p=208&amp;cpage=1#comment-12376\">\\n\\t\\t\\tMarch 5, 2012 at 2:59 am</a>\\t\\t</div>\\n\\n\\t\\t<p>just as an fyi, the wordcloud package also has a comparison word cloud that has similar goals: <a href=\"http://blog.fellstat.com/?p=101\" rel=\"nofollow\">http://blog.fellstat.com/?p=101</a></p>\\n\\n\\t\\t<div class=\"reply\">\\n\\t\\t\\t\\t</div>\\n\\t\\t\\t\\t</div>\\n\\t\\t</li>\\n\\t\\t<li class=\"pingback odd alt thread-odd thread-alt depth-1\" id=\"comment-83343\">\\n\\t\\t\\t\\t<div id=\"div-comment-83343\" class=\"comment-body\">\\n\\t\\t\\t\\t<div class=\"comment-author vcard\">\\n\\t\\t\\t\\t<cite class=\"fn\"><a href=\\'http://geroldkathan.wordpress.com/2013/03/14/real-world-ea-our-tagcloud/\\' rel=\\'external nofollow\\' class=\\'url\\'>real life EA &#8211; our tagcloud | gerold kathan</a></cite> <span class=\"says\">says:</span>\\t\\t</div>\\n\\n\\t\\t<div class=\"comment-meta commentmetadata\"><a href=\"http://smallsocialsystems.com/blog/?p=208&amp;cpage=1#comment-83343\">\\n\\t\\t\\tMarch 20, 2013 at 6:54 am</a>\\t\\t</div>\\n\\n\\t\\t<p>[...] as a next exercise is a visual comparison of the 2 tag clouds &#8211; th\\xc3\\xa4nx to\\xc2\\xa0http://smallsocialsystems.com/blog/?p=208\\xc2\\xa0for the R scripts to generate [...]</p>\\n\\n\\t\\t<div class=\"reply\">\\n\\t\\t\\t\\t</div>\\n\\t\\t\\t\\t</div>\\n\\t\\t</li>\\n\\t\\t\\t</ol>\\r\\n\\t\\t\\t\\r\\n\\t\\t\\t\\r\\n\\t\\r\\n\\t\\t\\t\\t\\t\\t\\t\\t\\t<div id=\"respond\">\\n\\t\\t\\t\\t<h3 id=\"reply-title\">Leave a Reply <small><a rel=\"nofollow\" id=\"cancel-comment-reply-link\" href=\"/blog/?p=208#respond\" style=\"display:none;\">Cancel reply</a></small></h3>\\n\\t\\t\\t\\t\\t\\t\\t\\t\\t<form action=\"http://smallsocialsystems.com/blog/wp-comments-post.php\" method=\"post\" id=\"commentform\">\\n\\t\\t\\t\\t\\t\\t\\t\\t\\t\\t\\t\\t\\t\\t\\t\\t\\t\\t\\t<p class=\"comment-notes\">Your email address will not be published. Required fields are marked <span class=\"required\">*</span></p>\\t\\t\\t\\t\\t\\t\\t<p class=\"comment-form-author\"><label for=\"author\">Name <span class=\"required\">*</span></label> <input id=\"author\" name=\"author\" type=\"text\" value=\"\" size=\"30\" aria-required=\\'true\\' /></p>\\n<p class=\"comment-form-email\"><label for=\"email\">Email <span class=\"required\">*</span></label> <input id=\"email\" name=\"email\" type=\"text\" value=\"\" size=\"30\" aria-required=\\'true\\' /></p>\\n<p class=\"comment-form-url\"><label for=\"url\">Website</label><input id=\"url\" name=\"url\" type=\"text\" value=\"\" size=\"30\" /></p>\\n\\t\\t\\t\\t\\t\\t\\t\\t\\t\\t\\t\\t<p class=\"comment-form-comment\"><label for=\"comment\">Comment</label><textarea id=\"comment\" name=\"comment\" cols=\"45\" rows=\"8\" aria-required=\"true\"></textarea></p>\\t\\t\\t\\t\\t\\t<p class=\"form-allowed-tags\">You may use these <abbr title=\"HyperText Markup Language\">HTML</abbr> tags and attributes:  <code>&lt;a href=&quot;&quot; title=&quot;&quot;&gt; &lt;abbr title=&quot;&quot;&gt; &lt;acronym title=&quot;&quot;&gt; &lt;b&gt; &lt;blockquote cite=&quot;&quot;&gt; &lt;cite&gt; &lt;code&gt; &lt;del datetime=&quot;&quot;&gt; &lt;em&gt; &lt;i&gt; &lt;q cite=&quot;&quot;&gt; &lt;strike&gt; &lt;strong&gt; </code></p>\\t\\t\\t\\t\\t\\t<p class=\"form-submit\">\\n\\t\\t\\t\\t\\t\\t\\t<input name=\"submit\" type=\"submit\" id=\"submit\" value=\"Post Comment\" />\\n\\t\\t\\t\\t\\t\\t\\t<input type=\\'hidden\\' name=\\'comment_post_ID\\' value=\\'208\\' id=\\'comment_post_ID\\' />\\n<input type=\\'hidden\\' name=\\'comment_parent\\' id=\\'comment_parent\\' value=\\'0\\' />\\n\\t\\t\\t\\t\\t\\t</p>\\n\\t\\t\\t\\t\\t\\t<p style=\"display: none;\"><input type=\"hidden\" id=\"akismet_comment_nonce\" name=\"akismet_comment_nonce\" value=\"6bd16cf5ce\" /></p>\\t\\t\\t\\t\\t</form>\\n\\t\\t\\t\\t\\t\\t\\t</div><!-- #respond -->\\n\\t\\t\\t\\t\\t\\t</div>\\r\\n</div>\\n\\t\\t\\t</div>\\n\\t\\t\\t</div>\\n\\t\\t\\t\\n\\t\\t\\t\\n\\t\\n\\t\\t\\n\\t\\n</div> <!-- end content -->\\n</div>\\n<div id=\"sidebar\" class=\"fix\">\\r\\n\\t\\t\\t\\t\\n\\t\\t\\t<div id=\"welcome\" class=\"fix\">\\n\\t\\t\\t<div class=\"welcometext\">\\n\\t\\t\\t\\t<h3 class=\"greeting\">A few sparks...</h3>\\t\\t\\t\\t<div class=\"welcomemessage\">Many posts can\\'t be seen if you\\'re not logged in.  Please sign up!</div>\\t\\t\\t\\t\\n<div class=\"twitter\">\\n\\t \"No public Twitter messages.\" &mdash;&nbsp;<a href=\"http://www.twitter.com/winteram\">winteram</a>\\n</div>\\n\\t\\t\\t\\t<div class=\"clear\"></div>\\n\\t\\t\\t</div>\\n\\t\\t</div>\\n\\t\\t\\t\\t\\n\\n\\t\\n\\t\\t\\t\\t\\r\\n\\t\\t\\t\\t\\t<div id=\"meta-3\" class=\"widget_meta widget\"><div class=\"winner\"><h3 class=\"wtitle\">Meta&nbsp;</h3>\\t\\t\\t<ul>\\n\\t\\t\\t\\t\\t\\t<li><a href=\"http://smallsocialsystems.com/blog/wp-login.php\">Log in</a></li>\\n\\t\\t\\t<li><a href=\"http://smallsocialsystems.com/blog/?feed=rss2\" title=\"Syndicate this site using RSS 2.0\">Entries <abbr title=\"Really Simple Syndication\">RSS</abbr></a></li>\\n\\t\\t\\t<li><a href=\"http://smallsocialsystems.com/blog/?feed=comments-rss2\" title=\"The latest comments to all posts in RSS\">Comments <abbr title=\"Really Simple Syndication\">RSS</abbr></a></li>\\n\\t\\t\\t<li><a href=\"http://wordpress.org/\" title=\"Powered by WordPress, state-of-the-art semantic personal publishing platform.\">WordPress.org</a></li>\\n\\t\\t\\t\\t\\t\\t</ul>\\n&nbsp;</div></div><div id=\"nav_menu-3\" class=\"widget_nav_menu widget\"><div class=\"winner\"><h3 class=\"wtitle\">Small Social Systems&nbsp;</h3><div class=\"menu-small-social-systems-container\"><ul id=\"menu-small-social-systems\" class=\"menu\"><li id=\"menu-item-128\" class=\"menu-item menu-item-type-custom menu-item-object-custom menu-item-128\"><a href=\"http://smallsocialsystems.com/about.html\">About Me</a></li>\\n<li id=\"menu-item-129\" class=\"menu-item menu-item-type-custom menu-item-object-custom menu-item-129\"><a href=\"http://smallsocialsystems.com/cv.html\">Manuscripts</a></li>\\n<li id=\"menu-item-130\" class=\"menu-item menu-item-type-custom menu-item-object-custom menu-item-130\"><a href=\"http://smallsocialsystems.com/research.html\">Research</a></li>\\n<li id=\"menu-item-131\" class=\"menu-item menu-item-type-custom menu-item-object-custom menu-item-131\"><a href=\"http://smallsocialsystems.com/profassn.html\">Associations</a></li>\\n</ul></div>&nbsp;</div></div><div id=\"categories-3\" class=\"widget_categories widget\"><div class=\"winner\"><h3 class=\"wtitle\">Categories&nbsp;</h3><select name=\\'cat\\' id=\\'cat\\' class=\\'postform\\' >\\n\\t<option value=\\'-1\\'>Select Category</option>\\n\\t<option class=\"level-0\" value=\"5\">Personal</option>\\n\\t<option class=\"level-0\" value=\"3\">Politics</option>\\n\\t<option class=\"level-0\" value=\"85\">Random Thoughts</option>\\n\\t<option class=\"level-0\" value=\"54\">Religion</option>\\n\\t<option class=\"level-0\" value=\"4\">Research</option>\\n\\t<option class=\"level-0\" value=\"48\">Romance</option>\\n\\t<option class=\"level-0\" value=\"1\">Uncategorized</option>\\n</select>\\n\\n<script type=\\'text/javascript\\'>\\n/* <![CDATA[ */\\n\\tvar dropdown = document.getElementById(\"cat\");\\n\\tfunction onCatChange() {\\n\\t\\tif ( dropdown.options[dropdown.selectedIndex].value > 0 ) {\\n\\t\\t\\tlocation.href = \"http://smallsocialsystems.com/blog/?cat=\"+dropdown.options[dropdown.selectedIndex].value;\\n\\t\\t}\\n\\t}\\n\\tdropdown.onchange = onCatChange;\\n/* ]]> */\\n</script>\\n\\n&nbsp;</div></div>\\t\\t<div id=\"recent-posts-3\" class=\"widget_recent_entries widget\"><div class=\"winner\">\\t\\t<h3 class=\"wtitle\">Recent Posts&nbsp;</h3>\\t\\t<ul>\\n\\t\\t\\t\\t\\t<li>\\n\\t\\t\\t\\t<a href=\"http://smallsocialsystems.com/blog/?p=223\" title=\"Meme-based reviews\">Meme-based reviews</a>\\n\\t\\t\\t\\t\\t\\t</li>\\n\\t\\t\\t\\t\\t<li>\\n\\t\\t\\t\\t<a href=\"http://smallsocialsystems.com/blog/?p=208\" title=\"Comparative Word Cloud\">Comparative Word Cloud</a>\\n\\t\\t\\t\\t\\t\\t</li>\\n\\t\\t\\t\\t\\t<li>\\n\\t\\t\\t\\t<a href=\"http://smallsocialsystems.com/blog/?p=202\" title=\"MPAA alternative\">MPAA alternative</a>\\n\\t\\t\\t\\t\\t\\t</li>\\n\\t\\t\\t\\t\\t<li>\\n\\t\\t\\t\\t<a href=\"http://smallsocialsystems.com/blog/?p=195\" title=\"Video game idea\">Video game idea</a>\\n\\t\\t\\t\\t\\t\\t</li>\\n\\t\\t\\t\\t\\t<li>\\n\\t\\t\\t\\t<a href=\"http://smallsocialsystems.com/blog/?p=158\" title=\"Casualties in the War in Afghanistan\">Casualties in the War in Afghanistan</a>\\n\\t\\t\\t\\t\\t\\t</li>\\n\\t\\t\\t\\t</ul>\\n\\t\\t&nbsp;</div></div><div id=\"tag_cloud-3\" class=\"widget_tag_cloud widget\"><div class=\"winner\"><h3 class=\"wtitle\">Tags&nbsp;</h3><div class=\"tagcloud\"><a href=\\'http://smallsocialsystems.com/blog/?tag=attitudes\\' class=\\'tag-link-27\\' title=\\'1 topic\\' style=\\'font-size: 8pt;\\'>attitudes</a>\\n<a href=\\'http://smallsocialsystems.com/blog/?tag=blogs\\' class=\\'tag-link-19\\' title=\\'1 topic\\' style=\\'font-size: 8pt;\\'>blogs</a>\\n<a href=\\'http://smallsocialsystems.com/blog/?tag=dating\\' class=\\'tag-link-36\\' title=\\'1 topic\\' style=\\'font-size: 8pt;\\'>dating</a>\\n<a href=\\'http://smallsocialsystems.com/blog/?tag=dissertation\\' class=\\'tag-link-53\\' title=\\'4 topics\\' style=\\'font-size: 18.181818181818pt;\\'>dissertation</a>\\n<a href=\\'http://smallsocialsystems.com/blog/?tag=drunk\\' class=\\'tag-link-33\\' title=\\'1 topic\\' style=\\'font-size: 8pt;\\'>drunk</a>\\n<a href=\\'http://smallsocialsystems.com/blog/?tag=einstein\\' class=\\'tag-link-24\\' title=\\'1 topic\\' style=\\'font-size: 8pt;\\'>einstein</a>\\n<a href=\\'http://smallsocialsystems.com/blog/?tag=friendship\\' class=\\'tag-link-16\\' title=\\'1 topic\\' style=\\'font-size: 8pt;\\'>friendship</a>\\n<a href=\\'http://smallsocialsystems.com/blog/?tag=girlfriend\\' class=\\'tag-link-47\\' title=\\'2 topics\\' style=\\'font-size: 12.581818181818pt;\\'>girlfriend</a>\\n<a href=\\'http://smallsocialsystems.com/blog/?tag=governance\\' class=\\'tag-link-12\\' title=\\'1 topic\\' style=\\'font-size: 8pt;\\'>governance</a>\\n<a href=\\'http://smallsocialsystems.com/blog/?tag=graduation\\' class=\\'tag-link-31\\' title=\\'1 topic\\' style=\\'font-size: 8pt;\\'>graduation</a>\\n<a href=\\'http://smallsocialsystems.com/blog/?tag=heirarchy\\' class=\\'tag-link-30\\' title=\\'1 topic\\' style=\\'font-size: 8pt;\\'>heirarchy</a>\\n<a href=\\'http://smallsocialsystems.com/blog/?tag=job\\' class=\\'tag-link-69\\' title=\\'3 topics\\' style=\\'font-size: 15.636363636364pt;\\'>job</a>\\n<a href=\\'http://smallsocialsystems.com/blog/?tag=love\\' class=\\'tag-link-42\\' title=\\'2 topics\\' style=\\'font-size: 12.581818181818pt;\\'>love</a>\\n<a href=\\'http://smallsocialsystems.com/blog/?tag=moods\\' class=\\'tag-link-7\\' title=\\'1 topic\\' style=\\'font-size: 8pt;\\'>moods</a>\\n<a href=\\'http://smallsocialsystems.com/blog/?tag=moving\\' class=\\'tag-link-71\\' title=\\'2 topics\\' style=\\'font-size: 12.581818181818pt;\\'>moving</a>\\n<a href=\\'http://smallsocialsystems.com/blog/?tag=needs\\' class=\\'tag-link-11\\' title=\\'1 topic\\' style=\\'font-size: 8pt;\\'>needs</a>\\n<a href=\\'http://smallsocialsystems.com/blog/?tag=news\\' class=\\'tag-link-21\\' title=\\'1 topic\\' style=\\'font-size: 8pt;\\'>news</a>\\n<a href=\\'http://smallsocialsystems.com/blog/?tag=norms\\' class=\\'tag-link-17\\' title=\\'1 topic\\' style=\\'font-size: 8pt;\\'>norms</a>\\n<a href=\\'http://smallsocialsystems.com/blog/?tag=nyc\\' class=\\'tag-link-72\\' title=\\'2 topics\\' style=\\'font-size: 12.581818181818pt;\\'>nyc</a>\\n<a href=\\'http://smallsocialsystems.com/blog/?tag=party\\' class=\\'tag-link-34\\' title=\\'1 topic\\' style=\\'font-size: 8pt;\\'>party</a>\\n<a href=\\'http://smallsocialsystems.com/blog/?tag=planning\\' class=\\'tag-link-56\\' title=\\'2 topics\\' style=\\'font-size: 12.581818181818pt;\\'>planning</a>\\n<a href=\\'http://smallsocialsystems.com/blog/?tag=poem\\' class=\\'tag-link-52\\' title=\\'5 topics\\' style=\\'font-size: 20.218181818182pt;\\'>poem</a>\\n<a href=\\'http://smallsocialsystems.com/blog/?tag=protest-letters\\' class=\\'tag-link-28\\' title=\\'1 topic\\' style=\\'font-size: 8pt;\\'>protest letters</a>\\n<a href=\\'http://smallsocialsystems.com/blog/?tag=quals\\' class=\\'tag-link-13\\' title=\\'1 topic\\' style=\\'font-size: 8pt;\\'>quals</a>\\n<a href=\\'http://smallsocialsystems.com/blog/?tag=random\\' class=\\'tag-link-15\\' title=\\'2 topics\\' style=\\'font-size: 12.581818181818pt;\\'>random</a>\\n<a href=\\'http://smallsocialsystems.com/blog/?tag=religion\\' class=\\'tag-link-54\\' title=\\'2 topics\\' style=\\'font-size: 12.581818181818pt;\\'>Religion</a>\\n<a href=\\'http://smallsocialsystems.com/blog/?tag=research\\' class=\\'tag-link-4\\' title=\\'2 topics\\' style=\\'font-size: 12.581818181818pt;\\'>Research</a>\\n<a href=\\'http://smallsocialsystems.com/blog/?tag=signal-processing\\' class=\\'tag-link-23\\' title=\\'1 topic\\' style=\\'font-size: 8pt;\\'>signal processing</a>\\n<a href=\\'http://smallsocialsystems.com/blog/?tag=single\\' class=\\'tag-link-35\\' title=\\'1 topic\\' style=\\'font-size: 8pt;\\'>single</a>\\n<a href=\\'http://smallsocialsystems.com/blog/?tag=skydiving\\' class=\\'tag-link-26\\' title=\\'1 topic\\' style=\\'font-size: 8pt;\\'>skydiving</a>\\n<a href=\\'http://smallsocialsystems.com/blog/?tag=social-chemistry\\' class=\\'tag-link-10\\' title=\\'1 topic\\' style=\\'font-size: 8pt;\\'>social chemistry</a>\\n<a href=\\'http://smallsocialsystems.com/blog/?tag=social-network\\' class=\\'tag-link-9\\' title=\\'3 topics\\' style=\\'font-size: 15.636363636364pt;\\'>social network</a>\\n<a href=\\'http://smallsocialsystems.com/blog/?tag=story-idea\\' class=\\'tag-link-25\\' title=\\'1 topic\\' style=\\'font-size: 8pt;\\'>story idea</a>\\n<a href=\\'http://smallsocialsystems.com/blog/?tag=summer\\' class=\\'tag-link-32\\' title=\\'1 topic\\' style=\\'font-size: 8pt;\\'>summer</a>\\n<a href=\\'http://smallsocialsystems.com/blog/?tag=tattoo\\' class=\\'tag-link-14\\' title=\\'1 topic\\' style=\\'font-size: 8pt;\\'>tattoo</a>\\n<a href=\\'http://smallsocialsystems.com/blog/?tag=terrorist\\' class=\\'tag-link-6\\' title=\\'1 topic\\' style=\\'font-size: 8pt;\\'>terrorist</a>\\n<a href=\\'http://smallsocialsystems.com/blog/?tag=time-capsule\\' class=\\'tag-link-37\\' title=\\'1 topic\\' style=\\'font-size: 8pt;\\'>time capsule</a>\\n<a href=\\'http://smallsocialsystems.com/blog/?tag=university\\' class=\\'tag-link-29\\' title=\\'1 topic\\' style=\\'font-size: 8pt;\\'>university</a>\\n<a href=\\'http://smallsocialsystems.com/blog/?tag=vegetarian\\' class=\\'tag-link-44\\' title=\\'2 topics\\' style=\\'font-size: 12.581818181818pt;\\'>vegetarian</a>\\n<a href=\\'http://smallsocialsystems.com/blog/?tag=vision\\' class=\\'tag-link-22\\' title=\\'1 topic\\' style=\\'font-size: 8pt;\\'>vision</a>\\n<a href=\\'http://smallsocialsystems.com/blog/?tag=weather\\' class=\\'tag-link-8\\' title=\\'1 topic\\' style=\\'font-size: 8pt;\\'>weather</a>\\n<a href=\\'http://smallsocialsystems.com/blog/?tag=wisdom\\' class=\\'tag-link-43\\' title=\\'3 topics\\' style=\\'font-size: 15.636363636364pt;\\'>wisdom</a>\\n<a href=\\'http://smallsocialsystems.com/blog/?tag=word-of-mouth\\' class=\\'tag-link-20\\' title=\\'1 topic\\' style=\\'font-size: 8pt;\\'>word of mouth</a>\\n<a href=\\'http://smallsocialsystems.com/blog/?tag=work\\' class=\\'tag-link-49\\' title=\\'6 topics\\' style=\\'font-size: 22pt;\\'>work</a>\\n<a href=\\'http://smallsocialsystems.com/blog/?tag=yahoo\\' class=\\'tag-link-68\\' title=\\'3 topics\\' style=\\'font-size: 15.636363636364pt;\\'>yahoo</a></div>\\n&nbsp;</div></div>\\t\\t\\t\\t\\r\\n\\t\\t</div><!--/sidebar -->\\n</div>\\n<div class=\"clear\"></div>\\n\\n\\n\\n<div  id=\"footer\">\\n\\t<div class=\"effect\">\\n\\t\\t<div class=\"content\">\\n\\t\\t\\t\\t\\t\\t<div id=\"fcolumns_container\" class=\"fix\">\\n\\t\\t\\t\\t\\t\\t\\t\\t\\t<div class=\"fcol\">\\n\\t\\t\\t\\t\\t\\t<div class=\"fcol_pad\">\\n\\t\\t\\t\\t\\t\\t\\t\\t\\t\\t\\t\\t\\t\\t\\t<h3 class=\"footer-site-title\"><a class=\"home\" href=\"http://smallsocialsystems.com/blog/\" title=\"Home\">scintillae</a></h3>\\n\\t\\t\\t\\t\\t\\t\\t\\t\\t\\t\\t\\t\\t</div>\\n\\t\\t\\t\\t\\t</div>\\n\\t\\t\\t\\t\\t<div class=\"fcol\">\\n\\t\\t\\t\\t\\t\\t<div class=\"fcol_pad\">\\n\\t\\t\\t\\t\\t\\t\\t<h3>Pages</h3>\\n\\t\\t\\t\\t\\t\\t\\t<div class=\"footer_nav\"></div>\\n\\t\\t\\t\\t\\t\\t</div>\\n\\t\\t\\t\\t\\t</div>\\n\\t\\t\\t\\t\\t<div class=\"fcol\">\\n\\t\\t\\t\\t\\t\\t<div class=\"fcol_pad\">\\n\\t\\t\\t\\t\\t\\t\\t<h3>Stay In Touch</h3>\\n\\t\\t\\t\\t\\t\\t\\t<div class=\"footer_nav\"></div>\\n\\n\\t\\t\\t\\t\\t\\t</div>\\n\\t\\t\\t\\t\\t</div>\\n\\t\\t\\t\\t\\t<div class=\"fcol\">\\n\\t\\t\\t\\t\\t\\t<div class=\"fcol_pad\">\\n\\t\\t\\t\\t\\t\\t\\t<h3>More</h3>\\n\\t\\t\\t\\t\\t\\t\\t<div class=\"welcomemessage\">Many posts can\\'t be seen if you\\'re not logged in.  Please sign up!</div>\\t\\t\\t\\t\\t\\t</div>\\n\\t\\t\\t\\t\\t</div>\\n\\t\\t\\t\\t\\t<div class=\"fcol\">\\n\\t\\t\\t\\t\\t\\t<div class=\"fcol_pad\">\\n\\t\\t\\t\\t\\t\\t\\t<span class=\"terms\">\\n\\t\\t\\t\\t\\t\\t\\t\\t\\xc2\\xa9 2010 Winter Mason\\t\\t\\t\\t\\t\\t\\t</span>\\n\\t\\t\\t\\t\\t\\t</div>\\n\\t\\t\\t\\t\\t</div>\\n\\t\\t\\t\\t\\t\\t\\t</div>\\n\\t\\n\\t\\t\\n\\t\\t\\t<div class=\"clear\"></div>\\n\\t\\t</div>\\t\\t\\n\\t</div>\\n\\n\\n</div>\\n\\t<div class=\"clear\"></div>\\n\\t\\t\\t<div id=\"cred\" class=\"pagelines\">\\n\\t\\t\\t<a class=\"plimage\" target=\"_blank\" href=\"http://www.pagelines.com\" title=\"iBlog by PageLines\">\\n\\t\\t\\t\\t<img src=\"http://smallsocialsystems.com/blog/wp-content/themes/iblog/images/pagelines.png\" alt=\"iBlog by PageLines\" />\\n\\t\\t\\t</a>\\n\\t\\t</div>\\n\\t \\t<hr class=\"hidden\" />\\n\\n  </div><!--/wrapper -->\\n\\n</div><!--/page -->\\n\\n<!-- Footer Scripts Go Here -->\\n<!-- End Footer scripts -->\\n\\n</body>\\n</html>'"
       ]
      }
     ],
     "prompt_number": 84
    },
    {
     "cell_type": "code",
     "collapsed": false,
     "input": [
      "for link in br.links():\n",
      "    print link.url"
     ],
     "language": "python",
     "metadata": {},
     "outputs": [
      {
       "output_type": "stream",
       "stream": "stdout",
       "text": [
        "http://smallsocialsystems.com/blog\n",
        "http://smallsocialsystems.com/blog/?feed=rss2\n",
        "http://smallsocialsystems.com/blog/\n",
        "http://smallsocialsystems.com/blog/?p=202\n",
        "http://smallsocialsystems.com/blog/?p=223\n",
        "http://smallsocialsystems.com/blog/?p=208\n",
        "http://smallsocialsystems.com/blog/?cat=4\n",
        "http://www.drewconway.com/\n",
        "http://www.drewconway.com/zia/?p=2624\n",
        "http://andrewgelman.com/2011/02/the_best_data_v/\n",
        "http://en.wikipedia.org/wiki/2011_Tucson_shooting\n",
        "http://smallsocialsystems.com/blog/wp-content/uploads/2012/03/palin_wordle.png\n",
        "http://smallsocialsystems.com/blog/wp-content/uploads/2012/03/obama_wordle.png\n",
        "https://github.com/drewconway/ZIA/tree/master/R/better_word_cloud\n",
        "http://smallsocialsystems.com/blog/wp-content/uploads/2012/03/tuscon_cloud.png\n",
        "http://smallsocialsystems.com/blog/wp-content/uploads/2012/03/tuscon_cloud2.png\n",
        "http://cran.r-project.org/web/packages/tm/index.html\n",
        "http://had.co.nz/ggplot2/\n",
        "http://github.com/winteram/Comparative-Word-Cloud\n",
        "http://twitter.com/home/?status=Comparative%20Word%20Cloud%20http://smallsocialsystems.com/blog/?p=208\n",
        "http://del.icio.us/post?url=http://smallsocialsystems.com/blog/?p=208&title=Comparative%20Word%20Cloud\n",
        "http://digg.com/submit?phase=2&url=http://smallsocialsystems.com/blog/?p=208&title=Comparative%20Word%20Cloud\n",
        "http://smallsocialsystems.com/blog/?p=208&cpage=1#comment-12376\n",
        "http://blog.fellstat.com/?p=101\n",
        "http://geroldkathan.wordpress.com/2013/03/14/real-world-ea-our-tagcloud/\n",
        "http://smallsocialsystems.com/blog/?p=208&cpage=1#comment-83343\n",
        "/blog/?p=208#respond\n",
        "http://www.twitter.com/winteram\n",
        "http://smallsocialsystems.com/blog/wp-login.php\n",
        "http://smallsocialsystems.com/blog/?feed=rss2\n",
        "http://smallsocialsystems.com/blog/?feed=comments-rss2\n",
        "http://wordpress.org/\n",
        "http://smallsocialsystems.com/about.html\n",
        "http://smallsocialsystems.com/cv.html\n",
        "http://smallsocialsystems.com/research.html\n",
        "http://smallsocialsystems.com/profassn.html\n",
        "http://smallsocialsystems.com/blog/?p=223\n",
        "http://smallsocialsystems.com/blog/?p=208\n",
        "http://smallsocialsystems.com/blog/?p=202\n",
        "http://smallsocialsystems.com/blog/?p=195\n",
        "http://smallsocialsystems.com/blog/?p=158\n",
        "http://smallsocialsystems.com/blog/?tag=attitudes\n",
        "http://smallsocialsystems.com/blog/?tag=blogs\n",
        "http://smallsocialsystems.com/blog/?tag=dating\n",
        "http://smallsocialsystems.com/blog/?tag=dissertation\n",
        "http://smallsocialsystems.com/blog/?tag=drunk\n",
        "http://smallsocialsystems.com/blog/?tag=einstein\n",
        "http://smallsocialsystems.com/blog/?tag=friendship\n",
        "http://smallsocialsystems.com/blog/?tag=girlfriend\n",
        "http://smallsocialsystems.com/blog/?tag=governance\n",
        "http://smallsocialsystems.com/blog/?tag=graduation\n",
        "http://smallsocialsystems.com/blog/?tag=heirarchy\n",
        "http://smallsocialsystems.com/blog/?tag=job\n",
        "http://smallsocialsystems.com/blog/?tag=love\n",
        "http://smallsocialsystems.com/blog/?tag=moods\n",
        "http://smallsocialsystems.com/blog/?tag=moving\n",
        "http://smallsocialsystems.com/blog/?tag=needs\n",
        "http://smallsocialsystems.com/blog/?tag=news\n",
        "http://smallsocialsystems.com/blog/?tag=norms\n",
        "http://smallsocialsystems.com/blog/?tag=nyc\n",
        "http://smallsocialsystems.com/blog/?tag=party\n",
        "http://smallsocialsystems.com/blog/?tag=planning\n",
        "http://smallsocialsystems.com/blog/?tag=poem\n",
        "http://smallsocialsystems.com/blog/?tag=protest-letters\n",
        "http://smallsocialsystems.com/blog/?tag=quals\n",
        "http://smallsocialsystems.com/blog/?tag=random\n",
        "http://smallsocialsystems.com/blog/?tag=religion\n",
        "http://smallsocialsystems.com/blog/?tag=research\n",
        "http://smallsocialsystems.com/blog/?tag=signal-processing\n",
        "http://smallsocialsystems.com/blog/?tag=single\n",
        "http://smallsocialsystems.com/blog/?tag=skydiving\n",
        "http://smallsocialsystems.com/blog/?tag=social-chemistry\n",
        "http://smallsocialsystems.com/blog/?tag=social-network\n",
        "http://smallsocialsystems.com/blog/?tag=story-idea\n",
        "http://smallsocialsystems.com/blog/?tag=summer\n",
        "http://smallsocialsystems.com/blog/?tag=tattoo\n",
        "http://smallsocialsystems.com/blog/?tag=terrorist\n",
        "http://smallsocialsystems.com/blog/?tag=time-capsule\n",
        "http://smallsocialsystems.com/blog/?tag=university\n",
        "http://smallsocialsystems.com/blog/?tag=vegetarian\n",
        "http://smallsocialsystems.com/blog/?tag=vision\n",
        "http://smallsocialsystems.com/blog/?tag=weather\n",
        "http://smallsocialsystems.com/blog/?tag=wisdom\n",
        "http://smallsocialsystems.com/blog/?tag=word-of-mouth\n",
        "http://smallsocialsystems.com/blog/?tag=work\n",
        "http://smallsocialsystems.com/blog/?tag=yahoo\n",
        "http://smallsocialsystems.com/blog/\n",
        "http://www.pagelines.com\n"
       ]
      }
     ],
     "prompt_number": 85
    },
    {
     "cell_type": "code",
     "collapsed": false,
     "input": [
      "r2 = br.follow_link(text_regex=r\"\\s*\",nr=1)"
     ],
     "language": "python",
     "metadata": {},
     "outputs": [],
     "prompt_number": 88
    },
    {
     "cell_type": "code",
     "collapsed": false,
     "input": [
      "print r2.geturl()"
     ],
     "language": "python",
     "metadata": {},
     "outputs": [
      {
       "output_type": "stream",
       "stream": "stdout",
       "text": [
        "http://smallsocialsystems.com/blog/?feed=rss2\n"
       ]
      }
     ],
     "prompt_number": 89
    },
    {
     "cell_type": "code",
     "collapsed": false,
     "input": [
      "r3 = br.back()"
     ],
     "language": "python",
     "metadata": {},
     "outputs": [],
     "prompt_number": 91
    },
    {
     "cell_type": "code",
     "collapsed": false,
     "input": [
      "r3.geturl()"
     ],
     "language": "python",
     "metadata": {},
     "outputs": [
      {
       "metadata": {},
       "output_type": "pyout",
       "prompt_number": 92,
       "text": [
        "'http://smallsocialsystems.com/blog/?p=208'"
       ]
      }
     ],
     "prompt_number": 92
    },
    {
     "cell_type": "code",
     "collapsed": false,
     "input": [
      "print r2.info()"
     ],
     "language": "python",
     "metadata": {},
     "outputs": [
      {
       "output_type": "stream",
       "stream": "stdout",
       "text": [
        "Date: Tue, 17 Sep 2013 23:27:32 GMT\r\n",
        "Server: Apache\r\n",
        "X-Pingback: http://smallsocialsystems.com/blog/xmlrpc.php\r\n",
        "Last-Modified: Sun, 10 Jun 2012 03:40:06 GMT\r\n",
        "ETag: \"6176783b6c036df3085665ff38d49d4b\"\r\n",
        "Vary: Accept-Encoding\r\n",
        "Connection: close\r\n",
        "Transfer-Encoding: chunked\r\n",
        "Content-Type: text/xml; charset=UTF-8\r\n",
        "\n"
       ]
      }
     ],
     "prompt_number": 94
    },
    {
     "cell_type": "heading",
     "level": 3,
     "metadata": {},
     "source": [
      "Live Journal example"
     ]
    },
    {
     "cell_type": "code",
     "collapsed": false,
     "input": [
      "jstr = \"\"\"\n",
      "{\n",
      "    \"glossary\": {\n",
      "        \"title\": \"example glossary\",\n",
      "\t\t\"GlossDiv\": {\n",
      "            \"title\": \"S\",\n",
      "\t\t\t\"GlossList\": {\n",
      "                \"GlossEntry\": {\n",
      "                    \"ID\": \"SGML\",\n",
      "\t\t\t\t\t\"SortAs\": \"SGML\",\n",
      "\t\t\t\t\t\"GlossTerm\": \"Standard Generalized Markup Language\",\n",
      "\t\t\t\t\t\"Acronym\": \"SGML\",\n",
      "\t\t\t\t\t\"Abbrev\": \"ISO 8879:1986\",\n",
      "\t\t\t\t\t\"GlossDef\": {\n",
      "                        \"para\": \"A meta-markup language, used to create markup languages such as DocBook.\",\n",
      "\t\t\t\t\t\t\"GlossSeeAlso\": [\"GML\", \"XML\"]\n",
      "                    },\n",
      "\t\t\t\t\t\"GlossSee\": \"markup\"\n",
      "                }\n",
      "            }\n",
      "        }\n",
      "    }\n",
      "}\n",
      "\"\"\""
     ],
     "language": "python",
     "metadata": {},
     "outputs": [],
     "prompt_number": 104
    },
    {
     "cell_type": "code",
     "collapsed": false,
     "input": [
      "import json"
     ],
     "language": "python",
     "metadata": {},
     "outputs": [],
     "prompt_number": 97
    },
    {
     "cell_type": "code",
     "collapsed": false,
     "input": [
      "try:\n",
      "    objs = json.loads(jstr)\n",
      "except ValueError:\n",
      "    print 'error'\n",
      "else:\n",
      "    print 'acceptable json'"
     ],
     "language": "python",
     "metadata": {},
     "outputs": [
      {
       "output_type": "stream",
       "stream": "stdout",
       "text": [
        "acceptable json\n"
       ]
      }
     ],
     "prompt_number": 105
    },
    {
     "cell_type": "code",
     "collapsed": false,
     "input": [
      "objs['glossary']['GlossDiv']['GlossList']"
     ],
     "language": "python",
     "metadata": {},
     "outputs": [
      {
       "metadata": {},
       "output_type": "pyout",
       "prompt_number": 107,
       "text": [
        "{u'GlossEntry': {u'Abbrev': u'ISO 8879:1986',\n",
        "  u'Acronym': u'SGML',\n",
        "  u'GlossDef': {u'GlossSeeAlso': [u'GML', u'XML'],\n",
        "   u'para': u'A meta-markup language, used to create markup languages such as DocBook.'},\n",
        "  u'GlossSee': u'markup',\n",
        "  u'GlossTerm': u'Standard Generalized Markup Language',\n",
        "  u'ID': u'SGML',\n",
        "  u'SortAs': u'SGML'}}"
       ]
      }
     ],
     "prompt_number": 107
    },
    {
     "cell_type": "code",
     "collapsed": false,
     "input": [
      "from twitter import *\n",
      "OAUTH_TOKEN='19202628-1t97auu1YH1zxtIOB4rQ3F056TEZPlUqUs3LoFCTa'\n",
      "OAUTH_SECRET='kuAD2MAExNlu7IwImoRAm1wbpdm5xc9gCGctL83c'\n",
      "CONSUMER_TOKEN='kXPnvcf4UzGUi57e6LaLw'\n",
      "CONSUMER_SECRET='HHlRwgG0F6qY0DYFH8yIUaRiDgvOkphoijamueJvjwY'"
     ],
     "language": "python",
     "metadata": {},
     "outputs": [],
     "prompt_number": 111
    },
    {
     "cell_type": "code",
     "collapsed": false,
     "input": [
      "t = Twitter(auth=OAuth(OAUTH_TOKEN,OAUTH_SECRET,CONSUMER_TOKEN,CONSUMER_SECRET))"
     ],
     "language": "python",
     "metadata": {},
     "outputs": [],
     "prompt_number": 112
    },
    {
     "cell_type": "code",
     "collapsed": false,
     "input": [
      "jstr = t.statuses.retweets_of_me()"
     ],
     "language": "python",
     "metadata": {},
     "outputs": [],
     "prompt_number": 128
    },
    {
     "cell_type": "code",
     "collapsed": false,
     "input": [
      "for tweet in jstr:\n",
      "    print tweet['text']"
     ],
     "language": "python",
     "metadata": {},
     "outputs": [
      {
       "output_type": "stream",
       "stream": "stdout",
       "text": [
        "@neiltyson there are two kinds of people. Those who can extrapolate from incomplete data.\n",
        "RT @jeffbigham: woman 3d prints Barbie w/ measurements of normal woman (average 19-year-old from CDC) :: http://t.co/NXtDtuEz3B\n",
        "Workshop on Crowdsourcing and Online Behavioral Experiments. One week left to submit! http://t.co/vDnADwKE2f  @winteram @ssuri @dggoldst\n",
        "It's sort of funny and a fairly accurate depiction of European histroy, so...  enjoy! http://t.co/7kImOfEKrA\n",
        "Want to go to Copenhagen next month? Going to #NetSci?  Check out this workshop: http://t.co/a5iRXT4sgr\n",
        "Study or work with #bigdata ? Help out researchers at Georgetown by doing 3-5 min. survey: http://t.co/QyGUihZYjy\n",
        "@ChrisDiehl I *highly* recommend the Jot (I have the Pro) by Adonit: http://t.co/gbmhrBFC Many apps.. I use iAnnotate PDF and Penultimate.\n",
        "Not sure why the UK cares about the NFL, but congrats on the press @seanjtaylor! http://t.co/OrqZHaID via @newsle\n",
        "IBM analytics predicts steampunk will be the next hot thing in fashion.  Would love to see the model. http://t.co/4YN6WrTd\n",
        "Schriber, et al: 3 most common targets of contempt: Acquaintance (33%), co-worker (28%), romantic partner (10.8%). :(  #SPSP2013\n",
        "Weaver, et al: men testing a hand lotion vs power drill made bigger (/riskier) bets in subsequent task. #threatenedmanhood #SPSP2013\n",
        "Acquisiti &amp; Fong find discrimination in hiring decisions based on personal info revealed on Facebook. #SPSP2013\n",
        "Posthumously pardon Aaron Swartz. http://t.co/lIlROnr2\n",
        "Improving Twitter search with real-time human computation http://t.co/MjjCh2uf via @twittereng\n",
        "Share your specialized knowledge with other social media researchers! Submit your tutorial for @icwsm 2013 by 1/15 http://t.co/pD2uuEtk\n",
        "Batman logo through the years (via @flowingdata) http://t.co/vypI13YK\n",
        "Social psychology + dynamic systems + computational modeling pre-conference at SPSP.  RT if interested but can't go. https://t.co/CduLAOlY\n",
        "Definitely something we need reminding of today.  via @peretti #fb http://t.co/LGe2lji6\n",
        "Flipped through this &amp; happy to see @drewconway and @dpatil featured! http://t.co/l5mydcBF\n",
        "CNN will use the lights at the top of the Empire State building to visualize results.  I approve. http://t.co/Mqja1r7y\n"
       ]
      }
     ],
     "prompt_number": 129
    },
    {
     "cell_type": "code",
     "collapsed": false,
     "input": [],
     "language": "python",
     "metadata": {},
     "outputs": []
    }
   ],
   "metadata": {}
  }
 ]
}